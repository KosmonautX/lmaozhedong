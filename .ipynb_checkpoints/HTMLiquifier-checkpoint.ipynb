{
 "cells": [
  {
   "cell_type": "code",
   "execution_count": 2,
   "id": "c6cc1a32",
   "metadata": {},
   "outputs": [
    {
     "name": "stdout",
     "output_type": "stream",
     "text": [
      "Collecting digitalarchive\n",
      "  Downloading digitalarchive-0.1.11.tar.gz (14 kB)\n",
      "Requirement already satisfied: requests in /home/ksatrayamaii/.virtualenvs/cds/lib/python3.9/site-packages (from digitalarchive) (2.26.0)\n",
      "Requirement already satisfied: pydantic in /home/ksatrayamaii/.virtualenvs/cds/lib/python3.9/site-packages (from digitalarchive) (1.8.2)\n",
      "Requirement already satisfied: typing-extensions>=3.7.4.3 in /home/ksatrayamaii/.virtualenvs/cds/lib/python3.9/site-packages (from pydantic->digitalarchive) (3.10.0.2)\n",
      "Requirement already satisfied: certifi>=2017.4.17 in /home/ksatrayamaii/.virtualenvs/cds/lib/python3.9/site-packages (from requests->digitalarchive) (2021.5.30)\n",
      "Requirement already satisfied: urllib3<1.27,>=1.21.1 in /home/ksatrayamaii/.virtualenvs/cds/lib/python3.9/site-packages (from requests->digitalarchive) (1.26.6)\n",
      "Requirement already satisfied: idna<4,>=2.5 in /home/ksatrayamaii/.virtualenvs/cds/lib/python3.9/site-packages (from requests->digitalarchive) (3.2)\n",
      "Requirement already satisfied: charset-normalizer~=2.0.0 in /home/ksatrayamaii/.virtualenvs/cds/lib/python3.9/site-packages (from requests->digitalarchive) (2.0.5)\n",
      "Building wheels for collected packages: digitalarchive\n",
      "  Building wheel for digitalarchive (setup.py) ... \u001b[?25ldone\n",
      "\u001b[?25h  Created wheel for digitalarchive: filename=digitalarchive-0.1.11-py3-none-any.whl size=14209 sha256=d3b34f0524825b44076ac873ee8eee5be816d2f2fc74efdedf463c4186a74d99\n",
      "  Stored in directory: /home/ksatrayamaii/.cache/pip/wheels/8e/1d/e3/8031925d3fe515175fa59b1c54e7d4ef29d4ce7c7f25d44b41\n",
      "Successfully built digitalarchive\n",
      "Installing collected packages: digitalarchive\n",
      "Successfully installed digitalarchive-0.1.11\n",
      "\u001b[33mWARNING: You are using pip version 21.2.3; however, version 21.3.1 is available.\n",
      "You should consider upgrading via the '/home/ksatrayamaii/.virtualenvs/cds/bin/python -m pip install --upgrade pip' command.\u001b[0m\n"
     ]
    }
   ],
   "source": [
    "!pip install digitalarchive"
   ]
  },
  {
   "cell_type": "code",
   "execution_count": 9,
   "id": "de3b6d8b",
   "metadata": {},
   "outputs": [],
   "source": [
    "import pandas as pd \n",
    "from pathlib import Path\n",
    "from html.parser import HTMLParser\n",
    "import os"
   ]
  },
  {
   "cell_type": "code",
   "execution_count": 8,
   "id": "03f7b326",
   "metadata": {},
   "outputs": [
    {
     "ename": "IndentationError",
     "evalue": "expected an indented block (1003450941.py, line 11)",
     "output_type": "error",
     "traceback": [
      "\u001b[0;36m  File \u001b[0;32m\"/tmp/ipykernel_9969/1003450941.py\"\u001b[0;36m, line \u001b[0;32m11\u001b[0m\n\u001b[0;31m    \u001b[0m\n\u001b[0m    ^\u001b[0m\n\u001b[0;31mIndentationError\u001b[0m\u001b[0;31m:\u001b[0m expected an indented block\n"
     ]
    }
   ],
   "source": [
    "p = Path('./extracted_data/translations/')\n",
    "documentPaths = [x / 'html' for x in p.iterdir() if x.is_dir()]\n",
    "\n",
    "class HTMLiquidifier(HTMLParser):\n",
    "    text = \"\"\n",
    "    def handle_data(self, data):\n",
    "        self.text += data\n",
    "\n",
    "i = 2\n",
    "for d in documentPaths:\n",
    "    if i== 5:\n",
    "        break\n",
    "    liquidhtml = HTMLiquidifier()\n",
    "    d.glob('**/*.html')\n",
    "    \n",
    "    liquidhtml.feed(data)\n",
    "    i ++\n",
    "    \n",
    "    \n",
    "    "
   ]
  },
  {
   "cell_type": "code",
   "execution_count": null,
   "id": "039b5d3d",
   "metadata": {},
   "outputs": [],
   "source": []
  },
  {
   "cell_type": "code",
   "execution_count": 19,
   "id": "168b7ce4",
   "metadata": {},
   "outputs": [
    {
     "name": "stdout",
     "output_type": "stream",
     "text": [
      "id='122331' uri='/srv/record/122331.json' title='Telegram from Aleksandr Vasilevsky to Stalin' doc_date='19450818' frontend_doc_date='August 18, 1945' slug='telegram-from-aleksandr-vasilevsky-to-stalin' source_created_at=datetime.datetime(2015, 7, 28, 14, 41, 10) source_updated_at=datetime.datetime(2020, 2, 6, 8, 40, 11) first_published_at=datetime.datetime(2015, 8, 6, 14, 45, 6) description='Vasilevsky reports on the progress of the Soviet invasion of Manchuria and planning for invasion of the Japanese island of Hokkaido and other islands in the Pacific. ' source='Library of Congress, Manuscript Division, Dmitriĭ Antonovich Volkogonov papers, 1887-1995, mm97083838, Reel 5, containers 7 through 9. Translated by Sergey Radchenko.' type=[Type(id='34', name='Telegram')] rights=Right(id='4', name='CWIHP', rights='The Cold War International History Project welcomes reuse of Digital Archive materials for research and educational purposes. Some documents may be subject to copyright, which  is retained by the rights holders in accordance with US and international copyright laws.  To enquire about this document&#39;s rights status or request permission for commercial use, please contact the Cold War International History Project at <a href=\"mailto:coldwar@wilsoncenter.org\">coldwar@wilsoncenter.org</a>.') pdf_generated_at=datetime.datetime(2018, 9, 18, 10, 23, 53) date_range_start=datetime.date(1945, 8, 18) sort_string_by_coverage='C2HINA' main_src=None model='Record' donors=[] subjects=[Subject(id='3395', name='World War, 1939-1945--Campaigns--Japan--Hokkaido', value=None, uri=None), Subject(id='3396', name='World War, 1939-1945--Campaigns--China--Manchuria', value=None, uri=None)] transcripts=[] translations=[Translation(id='10867', filename='TranslationFile_122331.html', content_type='text/html', extension='html', asset_id='15849', source_created_at='2015-07-28 14:41:25', source_updated_at='2015-08-05 10:46:48', url='/translations/10867.html', raw=None, pdf=None, html=None, language=Language(id='eng', name='English'))] media_files=[MediaFile(id='5632', filename='1945-08-18_telegram_vasilevsky.pdf', content_type='application/pdf', extension='pdf', asset_id='15892', source_created_at='2015-08-05 15:02:01', source_updated_at='2015-08-05 15:02:06', url='/assets/media_files/000/015/892/15892.pdf', raw=None, pdf=None, html=None, path='/assets/media_files/000/015/892/15892.pdf')] languages=[Language(id='rus', name='Russian')] contributors=[] creators=[Contributor(id='967', name='Vasilevsky, Aleksandr Mikhaylovich', value=None, uri=None)] original_coverages=[Coverage(id='31', name='China', uri='/srv/coverage/31.json', value=None, parent=Coverage(id='44', name='East Asia', uri='/srv/coverage/44.json', value='East Asia', parent=None, children=None), children=None), Coverage(id='78', name='Japan', uri='/srv/coverage/78.json', value=None, parent=Coverage(id='44', name='East Asia', uri='/srv/coverage/44.json', value='East Asia', parent=None, children=None), children=None), Coverage(id='130', name='Soviet Union', uri='/srv/coverage/130.json', value=None, parent=Coverage(id='45', name='Eastern Europe', uri='/srv/coverage/45.json', value='Eastern Europe', parent=None, children=None), children=None)] collections=[] attachments=[] links=[{'uri': '/srv/record/122332.json', 'id': '122332', 'title': 'Order by Aleksandr Vasilevsky to the Commander of the 1st Far Eastern Front', 'description': 'Vasilevsky sends orders to continue the occupation of Manchuria and prepare for invasion of the Japanese island of Hokkaido.', 'frontend_doc_date': 'August 18, 1945', 'slug': 'order-by-aleksandr-vasilevsky-to-the-commander-of-the-1st-far-eastern-front', 'doc_date': '19450818', 'sort_string_by_coverage': 'C2HINA', 'source_created_at': '2015-07-28 14:42:09', 'source_updated_at': '2020-02-06 08:40:34', 'first_published_at': '2015-08-06 14:45:06', 'date_range_start': '19450818', 'model': 'Record', 'main_src': ''}] repositories=[Repository(id='33', name='Library of Congress, Manuscript Division', uri=None, value=None)] publishers=[Publisher(id='1', name='Cold War International History Project (CWIHP)', value='Cold War International History Project (CWIHP)')] classifications=[]\n"
     ]
    },
    {
     "data": {
      "text/plain": [
       "[]"
      ]
     },
     "execution_count": 19,
     "metadata": {},
     "output_type": "execute_result"
    }
   ],
   "source": [
    "\n",
    "    "
   ]
  }
 ],
 "metadata": {
  "kernelspec": {
   "display_name": "Python 3 (ipykernel)",
   "language": "python",
   "name": "python3"
  },
  "language_info": {
   "codemirror_mode": {
    "name": "ipython",
    "version": 3
   },
   "file_extension": ".py",
   "mimetype": "text/x-python",
   "name": "python",
   "nbconvert_exporter": "python",
   "pygments_lexer": "ipython3",
   "version": "3.9.7"
  }
 },
 "nbformat": 4,
 "nbformat_minor": 5
}
