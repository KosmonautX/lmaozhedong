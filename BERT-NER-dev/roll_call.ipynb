{
 "cells": [
  {
   "cell_type": "code",
   "execution_count": 2,
   "metadata": {},
   "outputs": [
    {
     "name": "stderr",
     "output_type": "stream",
     "text": [
      "/home/princeton/.local/lib/python3.9/site-packages/torch/cuda/__init__.py:80: UserWarning: CUDA initialization: CUDA unknown error - this may be due to an incorrectly set up environment, e.g. changing env variable CUDA_VISIBLE_DEVICES after program start. Setting the available devices to be zero. (Triggered internally at  ../c10/cuda/CUDAFunctions.cpp:112.)\n",
      "  return torch._C._cuda_getDeviceCount() > 0\n"
     ]
    }
   ],
   "source": [
    "from bert import Ner\n",
    "import pandas as pd\n",
    "df = pd.read_csv(\"./z_processed-data.csv\")\n",
    "model = Ner(\"l/out_base/\")"
   ]
  },
  {
   "cell_type": "code",
   "execution_count": 5,
   "metadata": {},
   "outputs": [],
   "source": [
    "from nltk import ToktokTokenizer\n",
    "from nltk.tokenize import sent_tokenize\n",
    "\n",
    "def sentenced(x):\n",
    "  entities = []\n",
    "  count = 0 \n",
    "  li = sent_tokenize(x)\n",
    "  for sentence in li:\n",
    "    if len(sentence) < 512:\n",
    "      atomised = model.predict(sentence)\n",
    "      for atoms in atomised :\n",
    "        if atoms['tag'] != 'O':\n",
    "          entities.append(atoms)\n",
    "  return entities\n",
    "\n",
    "df[\"entities\"] = df[\"3\"].apply(lambda x: sentenced(str(x)))"
   ]
  },
  {
   "cell_type": "code",
   "execution_count": 7,
   "metadata": {},
   "outputs": [],
   "source": [
    "df.to_csv('./y_processed_dat.csv')\n",
    "\n",
    "\n",
    "# lol = df[\"3\"][0]\n",
    "#sentenced(lol)\n",
    "# lol\n"
   ]
  },
  {
   "cell_type": "code",
   "execution_count": null,
   "metadata": {},
   "outputs": [
    {
     "data": {
      "text/plain": [
       "[{'word': 'Hello', 'tag': 'O', 'confidence': 0.99978107213974},\n",
       " {'word': 'from', 'tag': 'O', 'confidence': 0.9994962215423584},\n",
       " {'word': 'Obama', 'tag': 'B-PER', 'confidence': 0.949417769908905},\n",
       " {'word': 'you', 'tag': 'O', 'confidence': 0.9999090433120728},\n",
       " {'word': 'English', 'tag': 'B-MISC', 'confidence': 0.9995313882827759}]"
      ]
     },
     "execution_count": 9,
     "metadata": {},
     "output_type": "execute_result"
    }
   ],
   "source": [
    "org_chart = pd.read_csv(\"./merged_political_military.csv\")\n",
    "org_chart.head()\n",
    "# output"
   ]
  }
 ],
 "metadata": {
  "interpreter": {
   "hash": "e7370f93d1d0cde622a1f8e1c04877d8463912d04d973331ad4851f04de6915a"
  },
  "kernelspec": {
   "display_name": "Python 3.9.7 64-bit",
   "language": "python",
   "name": "python3"
  },
  "language_info": {
   "codemirror_mode": {
    "name": "ipython",
    "version": 3
   },
   "file_extension": ".py",
   "mimetype": "text/x-python",
   "name": "python",
   "nbconvert_exporter": "python",
   "pygments_lexer": "ipython3",
   "version": "3.9.7"
  },
  "orig_nbformat": 4
 },
 "nbformat": 4,
 "nbformat_minor": 2
}
