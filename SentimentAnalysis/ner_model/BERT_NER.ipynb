{
 "cells": [
  {
   "cell_type": "code",
   "execution_count": 1,
   "metadata": {
    "id": "F0XjTMTCTFNc"
   },
   "outputs": [],
   "source": [
    "#!unzip BERT-NER.zip"
   ]
  },
  {
   "cell_type": "code",
   "execution_count": 2,
   "metadata": {
    "colab": {
     "base_uri": "https://localhost:8080/"
    },
    "id": "kDOS-IhMTGmg",
    "outputId": "18dd0d2a-7756-46d2-f040-b526fb56c6a9"
   },
   "outputs": [
    {
     "name": "stdout",
     "output_type": "stream",
     "text": [
      "/content/BERT-NER\n"
     ]
    }
   ],
   "source": [
    "cd BERT-NER"
   ]
  },
  {
   "cell_type": "code",
   "execution_count": 3,
   "metadata": {
    "colab": {
     "base_uri": "https://localhost:8080/"
    },
    "id": "KCo-2DAwTH7d",
    "outputId": "f4441aa2-bc27-49f2-e54d-42407d6aac77"
   },
   "outputs": [
    {
     "name": "stdout",
     "output_type": "stream",
     "text": [
      "\u001b[0m\u001b[01;34mdata\u001b[0m/          ner_data_generator.py  \u001b[01;34m__pycache__\u001b[0m/     utility.py\n",
      "dataset.py     ner.py                 README.md        visualization.py\n",
      "evaluation.py  normalization.py       \u001b[01;34mshared\u001b[0m/\n",
      "\u001b[01;34mlabel_desc\u001b[0m/    \u001b[01;34mnotebook\u001b[0m/              test_ner.py\n",
      "LICENSE        \u001b[01;34moutput\u001b[0m/                test_utility.py\n"
     ]
    }
   ],
   "source": [
    "ls"
   ]
  },
  {
   "cell_type": "code",
   "execution_count": 4,
   "metadata": {
    "id": "pRY71UWETIku"
   },
   "outputs": [],
   "source": [
    "import pandas as pd\n",
    "\n",
    "df = pd.read_csv('data/ner_dataset.csv', encoding='latin-1')"
   ]
  },
  {
   "cell_type": "code",
   "execution_count": 5,
   "metadata": {
    "id": "BwKY-PPGTOX7"
   },
   "outputs": [],
   "source": [
    "df.fillna(method='ffill', inplace=True)"
   ]
  },
  {
   "cell_type": "code",
   "execution_count": 6,
   "metadata": {
    "colab": {
     "base_uri": "https://localhost:8080/",
     "height": 191
    },
    "id": "23pgUunETRKh",
    "outputId": "db90946d-dd93-4bd0-a870-5b0a9cc46f63"
   },
   "outputs": [
    {
     "data": {
      "text/html": [
       "<div>\n",
       "<style scoped>\n",
       "    .dataframe tbody tr th:only-of-type {\n",
       "        vertical-align: middle;\n",
       "    }\n",
       "\n",
       "    .dataframe tbody tr th {\n",
       "        vertical-align: top;\n",
       "    }\n",
       "\n",
       "    .dataframe thead th {\n",
       "        text-align: right;\n",
       "    }\n",
       "</style>\n",
       "<table border=\"1\" class=\"dataframe\">\n",
       "  <thead>\n",
       "    <tr style=\"text-align: right;\">\n",
       "      <th></th>\n",
       "      <th>Sentence #</th>\n",
       "      <th>Word</th>\n",
       "      <th>POS</th>\n",
       "      <th>Tag</th>\n",
       "    </tr>\n",
       "  </thead>\n",
       "  <tbody>\n",
       "    <tr>\n",
       "      <th>0</th>\n",
       "      <td>Sentence: 1</td>\n",
       "      <td>Thousands</td>\n",
       "      <td>NNS</td>\n",
       "      <td>O</td>\n",
       "    </tr>\n",
       "    <tr>\n",
       "      <th>1</th>\n",
       "      <td>Sentence: 1</td>\n",
       "      <td>of</td>\n",
       "      <td>IN</td>\n",
       "      <td>O</td>\n",
       "    </tr>\n",
       "    <tr>\n",
       "      <th>2</th>\n",
       "      <td>Sentence: 1</td>\n",
       "      <td>demonstrators</td>\n",
       "      <td>NNS</td>\n",
       "      <td>O</td>\n",
       "    </tr>\n",
       "    <tr>\n",
       "      <th>3</th>\n",
       "      <td>Sentence: 1</td>\n",
       "      <td>have</td>\n",
       "      <td>VBP</td>\n",
       "      <td>O</td>\n",
       "    </tr>\n",
       "    <tr>\n",
       "      <th>4</th>\n",
       "      <td>Sentence: 1</td>\n",
       "      <td>marched</td>\n",
       "      <td>VBN</td>\n",
       "      <td>O</td>\n",
       "    </tr>\n",
       "  </tbody>\n",
       "</table>\n",
       "</div>"
      ],
      "text/plain": [
       "    Sentence #           Word  POS Tag\n",
       "0  Sentence: 1      Thousands  NNS   O\n",
       "1  Sentence: 1             of   IN   O\n",
       "2  Sentence: 1  demonstrators  NNS   O\n",
       "3  Sentence: 1           have  VBP   O\n",
       "4  Sentence: 1        marched  VBN   O"
      ]
     },
     "execution_count": 6,
     "metadata": {
      "tags": []
     },
     "output_type": "execute_result"
    }
   ],
   "source": [
    "df.head()"
   ]
  },
  {
   "cell_type": "code",
   "execution_count": 7,
   "metadata": {
    "id": "aIRdrHALTR7H"
   },
   "outputs": [],
   "source": [
    "df = df.rename(columns={'Sentence #': 'sentence_idx'})"
   ]
  },
  {
   "cell_type": "code",
   "execution_count": 8,
   "metadata": {
    "colab": {
     "base_uri": "https://localhost:8080/",
     "height": 191
    },
    "id": "JtZeqrCvTT8C",
    "outputId": "2308db63-fbe5-434a-9221-82a1e93d9910"
   },
   "outputs": [
    {
     "data": {
      "text/html": [
       "<div>\n",
       "<style scoped>\n",
       "    .dataframe tbody tr th:only-of-type {\n",
       "        vertical-align: middle;\n",
       "    }\n",
       "\n",
       "    .dataframe tbody tr th {\n",
       "        vertical-align: top;\n",
       "    }\n",
       "\n",
       "    .dataframe thead th {\n",
       "        text-align: right;\n",
       "    }\n",
       "</style>\n",
       "<table border=\"1\" class=\"dataframe\">\n",
       "  <thead>\n",
       "    <tr style=\"text-align: right;\">\n",
       "      <th></th>\n",
       "      <th>sentence_idx</th>\n",
       "      <th>Word</th>\n",
       "      <th>POS</th>\n",
       "      <th>Tag</th>\n",
       "    </tr>\n",
       "  </thead>\n",
       "  <tbody>\n",
       "    <tr>\n",
       "      <th>0</th>\n",
       "      <td>Sentence: 1</td>\n",
       "      <td>Thousands</td>\n",
       "      <td>NNS</td>\n",
       "      <td>O</td>\n",
       "    </tr>\n",
       "    <tr>\n",
       "      <th>1</th>\n",
       "      <td>Sentence: 1</td>\n",
       "      <td>of</td>\n",
       "      <td>IN</td>\n",
       "      <td>O</td>\n",
       "    </tr>\n",
       "    <tr>\n",
       "      <th>2</th>\n",
       "      <td>Sentence: 1</td>\n",
       "      <td>demonstrators</td>\n",
       "      <td>NNS</td>\n",
       "      <td>O</td>\n",
       "    </tr>\n",
       "    <tr>\n",
       "      <th>3</th>\n",
       "      <td>Sentence: 1</td>\n",
       "      <td>have</td>\n",
       "      <td>VBP</td>\n",
       "      <td>O</td>\n",
       "    </tr>\n",
       "    <tr>\n",
       "      <th>4</th>\n",
       "      <td>Sentence: 1</td>\n",
       "      <td>marched</td>\n",
       "      <td>VBN</td>\n",
       "      <td>O</td>\n",
       "    </tr>\n",
       "  </tbody>\n",
       "</table>\n",
       "</div>"
      ],
      "text/plain": [
       "  sentence_idx           Word  POS Tag\n",
       "0  Sentence: 1      Thousands  NNS   O\n",
       "1  Sentence: 1             of   IN   O\n",
       "2  Sentence: 1  demonstrators  NNS   O\n",
       "3  Sentence: 1           have  VBP   O\n",
       "4  Sentence: 1        marched  VBN   O"
      ]
     },
     "execution_count": 8,
     "metadata": {
      "tags": []
     },
     "output_type": "execute_result"
    }
   ],
   "source": [
    "df.head()"
   ]
  },
  {
   "cell_type": "code",
   "execution_count": 9,
   "metadata": {
    "colab": {
     "base_uri": "https://localhost:8080/"
    },
    "id": "cwFBJyVATZIG",
    "outputId": "483ddd87-33fb-4228-9ff3-7975def77167"
   },
   "outputs": [
    {
     "name": "stdout",
     "output_type": "stream",
     "text": [
      "Requirement already satisfied: transformers in /usr/local/lib/python3.6/dist-packages (3.5.1)\n",
      "Requirement already satisfied: tokenizers==0.9.3 in /usr/local/lib/python3.6/dist-packages (from transformers) (0.9.3)\n",
      "Requirement already satisfied: tqdm>=4.27 in /usr/local/lib/python3.6/dist-packages (from transformers) (4.41.1)\n",
      "Requirement already satisfied: dataclasses; python_version < \"3.7\" in /usr/local/lib/python3.6/dist-packages (from transformers) (0.7)\n",
      "Requirement already satisfied: packaging in /usr/local/lib/python3.6/dist-packages (from transformers) (20.4)\n",
      "Requirement already satisfied: numpy in /usr/local/lib/python3.6/dist-packages (from transformers) (1.18.5)\n",
      "Requirement already satisfied: requests in /usr/local/lib/python3.6/dist-packages (from transformers) (2.23.0)\n",
      "Requirement already satisfied: filelock in /usr/local/lib/python3.6/dist-packages (from transformers) (3.0.12)\n",
      "Requirement already satisfied: regex!=2019.12.17 in /usr/local/lib/python3.6/dist-packages (from transformers) (2019.12.20)\n",
      "Requirement already satisfied: sentencepiece==0.1.91 in /usr/local/lib/python3.6/dist-packages (from transformers) (0.1.91)\n",
      "Requirement already satisfied: protobuf in /usr/local/lib/python3.6/dist-packages (from transformers) (3.12.4)\n",
      "Requirement already satisfied: sacremoses in /usr/local/lib/python3.6/dist-packages (from transformers) (0.0.43)\n",
      "Requirement already satisfied: pyparsing>=2.0.2 in /usr/local/lib/python3.6/dist-packages (from packaging->transformers) (2.4.7)\n",
      "Requirement already satisfied: six in /usr/local/lib/python3.6/dist-packages (from packaging->transformers) (1.15.0)\n",
      "Requirement already satisfied: idna<3,>=2.5 in /usr/local/lib/python3.6/dist-packages (from requests->transformers) (2.10)\n",
      "Requirement already satisfied: urllib3!=1.25.0,!=1.25.1,<1.26,>=1.21.1 in /usr/local/lib/python3.6/dist-packages (from requests->transformers) (1.24.3)\n",
      "Requirement already satisfied: certifi>=2017.4.17 in /usr/local/lib/python3.6/dist-packages (from requests->transformers) (2020.6.20)\n",
      "Requirement already satisfied: chardet<4,>=3.0.2 in /usr/local/lib/python3.6/dist-packages (from requests->transformers) (3.0.4)\n",
      "Requirement already satisfied: setuptools in /usr/local/lib/python3.6/dist-packages (from protobuf->transformers) (50.3.2)\n",
      "Requirement already satisfied: click in /usr/local/lib/python3.6/dist-packages (from sacremoses->transformers) (7.1.2)\n",
      "Requirement already satisfied: joblib in /usr/local/lib/python3.6/dist-packages (from sacremoses->transformers) (0.17.0)\n"
     ]
    }
   ],
   "source": [
    "!pip3 install transformers"
   ]
  },
  {
   "cell_type": "code",
   "execution_count": 10,
   "metadata": {
    "colab": {
     "base_uri": "https://localhost:8080/"
    },
    "id": "HdKF9283FDC9",
    "outputId": "52b851c4-7758-4df0-c4c7-74701efecfd7"
   },
   "outputs": [
    {
     "name": "stdout",
     "output_type": "stream",
     "text": [
      "[Errno 2] No such file or directory: 'BERT-NER'\n",
      "/content/BERT-NER\n"
     ]
    }
   ],
   "source": [
    "cd BERT-NER"
   ]
  },
  {
   "cell_type": "markdown",
   "metadata": {
    "id": "laYonGvPChxH"
   },
   "source": [
    "**Model Training**"
   ]
  },
  {
   "cell_type": "code",
   "execution_count": 11,
   "metadata": {
    "colab": {
     "base_uri": "https://localhost:8080/",
     "height": 783,
     "referenced_widgets": [
      "6cf77101dcfc4911b49d6f8dab6c52fc",
      "72e948cf19ce41619efcb37d616c8212",
      "dead053fe6414eec85bc470b58500bd1",
      "2f763bb34eaf446bb9c1fab6bb043030",
      "3e1525e4f53d40dcb1677a816b0492ea",
      "e8a30398bfb34230ae4d06163b452bba",
      "500b60e7a909414590174fec6054af80",
      "71dfed37be454ef78583c0469796da91",
      "2d93cc1c1fe44524855bae80a5d6c953",
      "534b32b2ccdc43f780c6cefabfcbfc82",
      "e9a0f7fae1d04dee8a8816981a6dfa26",
      "28a7e265dc704343b841515f93af1cb6",
      "9209ce2eb24b45f1be82d2ddc5d1de82",
      "0b9fba36951a406c84c6e1aa0366d70f",
      "600fc564c77a45aea4db1e8195ca64d4",
      "a6a52c40e3ba47e8a64ae7779af51f69"
     ]
    },
    "id": "hHpM5raYTUzL",
    "outputId": "6bef2539-158e-4ad0-f303-5c008dc248d6"
   },
   "outputs": [
    {
     "data": {
      "application/vnd.jupyter.widget-view+json": {
       "model_id": "6cf77101dcfc4911b49d6f8dab6c52fc",
       "version_major": 2,
       "version_minor": 0
      },
      "text/plain": [
       "HBox(children=(FloatProgress(value=0.0, description='Downloading', max=433.0, style=ProgressStyle(description_…"
      ]
     },
     "metadata": {
      "tags": []
     },
     "output_type": "display_data"
    },
    {
     "name": "stdout",
     "output_type": "stream",
     "text": [
      "\n"
     ]
    },
    {
     "data": {
      "application/vnd.jupyter.widget-view+json": {
       "model_id": "2d93cc1c1fe44524855bae80a5d6c953",
       "version_major": 2,
       "version_minor": 0
      },
      "text/plain": [
       "HBox(children=(FloatProgress(value=0.0, description='Downloading', max=435779157.0, style=ProgressStyle(descri…"
      ]
     },
     "metadata": {
      "tags": []
     },
     "output_type": "display_data"
    },
    {
     "name": "stdout",
     "output_type": "stream",
     "text": [
      "\n"
     ]
    },
    {
     "name": "stderr",
     "output_type": "stream",
     "text": [
      "Some weights of the model checkpoint at bert-base-cased were not used when initializing BertForTokenClassification: ['cls.predictions.bias', 'cls.predictions.transform.dense.weight', 'cls.predictions.transform.dense.bias', 'cls.predictions.decoder.weight', 'cls.seq_relationship.weight', 'cls.seq_relationship.bias', 'cls.predictions.transform.LayerNorm.weight', 'cls.predictions.transform.LayerNorm.bias']\n",
      "- This IS expected if you are initializing BertForTokenClassification from the checkpoint of a model trained on another task or with another architecture (e.g. initializing a BertForSequenceClassification model from a BertForPreTraining model).\n",
      "- This IS NOT expected if you are initializing BertForTokenClassification from the checkpoint of a model that you expect to be exactly identical (initializing a BertForSequenceClassification model from a BertForSequenceClassification model).\n",
      "Some weights of BertForTokenClassification were not initialized from the model checkpoint at bert-base-cased and are newly initialized: ['classifier.weight', 'classifier.bias']\n",
      "You should probably TRAIN this model on a down-stream task to be able to use it for predictions and inference.\n"
     ]
    },
    {
     "name": "stdout",
     "output_type": "stream",
     "text": [
      "Epoch 1 / 5\n",
      "----------\n",
      "Train loss 0.18950454266348354\n",
      "Val loss 0.13211189343283575\n",
      "\n",
      "Epoch 2 / 5\n",
      "----------\n",
      "Train loss 0.10927686158752689\n",
      "Val loss 0.12075570156176885\n",
      "\n",
      "Epoch 3 / 5\n",
      "----------\n",
      "Train loss 0.07972508423124268\n",
      "Val loss 0.1249750238781174\n",
      "\n",
      "Epoch 4 / 5\n",
      "----------\n",
      "Train loss 0.058515033254564204\n",
      "Val loss 0.13813262560715278\n",
      "\n",
      "Epoch 5 / 5\n",
      "----------\n",
      "Train loss 0.045493570968972656\n",
      "Val loss 0.14455838084841768\n",
      "\n"
     ]
    },
    {
     "data": {
      "text/plain": [
       "<Figure size 720x360 with 0 Axes>"
      ]
     },
     "metadata": {
      "tags": []
     },
     "output_type": "display_data"
    },
    {
     "data": {
      "text/plain": [
       "<Figure size 720x360 with 0 Axes>"
      ]
     },
     "metadata": {
      "tags": []
     },
     "output_type": "display_data"
    },
    {
     "data": {
      "text/plain": [
       "<Figure size 720x360 with 0 Axes>"
      ]
     },
     "metadata": {
      "tags": []
     },
     "output_type": "display_data"
    },
    {
     "data": {
      "text/plain": [
       "<Figure size 720x360 with 0 Axes>"
      ]
     },
     "metadata": {
      "tags": []
     },
     "output_type": "display_data"
    },
    {
     "data": {
      "text/plain": [
       "<Figure size 720x360 with 0 Axes>"
      ]
     },
     "metadata": {
      "tags": []
     },
     "output_type": "display_data"
    },
    {
     "data": {
      "text/plain": [
       "<Figure size 720x360 with 0 Axes>"
      ]
     },
     "metadata": {
      "tags": []
     },
     "output_type": "display_data"
    },
    {
     "data": {
      "text/plain": [
       "<Figure size 720x360 with 0 Axes>"
      ]
     },
     "metadata": {
      "tags": []
     },
     "output_type": "display_data"
    },
    {
     "data": {
      "text/plain": [
       "<Figure size 720x360 with 0 Axes>"
      ]
     },
     "metadata": {
      "tags": []
     },
     "output_type": "display_data"
    },
    {
     "data": {
      "text/plain": [
       "<Figure size 720x360 with 0 Axes>"
      ]
     },
     "metadata": {
      "tags": []
     },
     "output_type": "display_data"
    },
    {
     "data": {
      "text/plain": [
       "<Figure size 720x360 with 0 Axes>"
      ]
     },
     "metadata": {
      "tags": []
     },
     "output_type": "display_data"
    }
   ],
   "source": [
    "from evaluation import Evaluation\n",
    "\n",
    "ev = Evaluation(lang_code='en', version=\"1.1\", colname='sentence_idx', pre_trained_name='bert-base-cased', epochs=5)\n",
    "ev.create_model(df, max_length=128, output_path='output')"
   ]
  },
  {
   "cell_type": "markdown",
   "metadata": {
    "id": "gNdNFaxNBQf4"
   },
   "source": [
    "**Prediction**"
   ]
  },
  {
   "cell_type": "code",
   "execution_count": 12,
   "metadata": {
    "id": "OIfQE3Tn3CdX"
   },
   "outputs": [],
   "source": [
    "text = \"\"\" Obama was born in Honolulu, Hawaii. After graduating from Columbia University in 1983, \n",
    "           he worked as a community organizer in Chicago. In 1988, he enrolled in Harvard Law School, \n",
    "           where he was the first black person to be president of the Harvard Law Review. After graduating, \n",
    "           he became a civil rights attorney and an academic, teaching constitutional law at the University \n",
    "           of Chicago Law School from 1992 to 2004. Turning to elective politics, he represented the 13th \n",
    "           district from 1997 until 2004 in the Illinois Senate, when he ran for the U.S. Senate.  \n",
    "       \"\"\""
   ]
  },
  {
   "cell_type": "code",
   "execution_count": 13,
   "metadata": {
    "colab": {
     "base_uri": "https://localhost:8080/",
     "height": 116
    },
    "id": "HThOvqFY3CbG",
    "outputId": "2c61b27a-9fec-4e5a-ff2c-6b918f4b0d91"
   },
   "outputs": [
    {
     "data": {
      "application/vnd.google.colaboratory.intrinsic+json": {
       "type": "string"
      },
      "text/plain": [
       "' Obama was born in Honolulu, Hawaii. After graduating from Columbia University in 1983, \\n           he worked as a community organizer in Chicago. In 1988, he enrolled in Harvard Law School, \\n           where he was the first black person to be president of the Harvard Law Review. After graduating, \\n           he became a civil rights attorney and an academic, teaching constitutional law at the University \\n           of Chicago Law School from 1992 to 2004. Turning to elective politics, he represented the 13th \\n           district from 1997 until 2004 in the Illinois Senate, when he ran for the U.S. Senate.  \\n       '"
      ]
     },
     "execution_count": 13,
     "metadata": {
      "tags": []
     },
     "output_type": "execute_result"
    }
   ],
   "source": [
    "text"
   ]
  },
  {
   "cell_type": "code",
   "execution_count": 14,
   "metadata": {
    "colab": {
     "base_uri": "https://localhost:8080/"
    },
    "id": "XxZr64fZ3GLS",
    "outputId": "763ed0c3-8d4d-4c12-aa9a-d67bc3658f82"
   },
   "outputs": [
    {
     "name": "stderr",
     "output_type": "stream",
     "text": [
      "Some weights of the model checkpoint at bert-base-cased were not used when initializing BertForTokenClassification: ['cls.predictions.bias', 'cls.predictions.transform.dense.weight', 'cls.predictions.transform.dense.bias', 'cls.predictions.decoder.weight', 'cls.seq_relationship.weight', 'cls.seq_relationship.bias', 'cls.predictions.transform.LayerNorm.weight', 'cls.predictions.transform.LayerNorm.bias']\n",
      "- This IS expected if you are initializing BertForTokenClassification from the checkpoint of a model trained on another task or with another architecture (e.g. initializing a BertForSequenceClassification model from a BertForPreTraining model).\n",
      "- This IS NOT expected if you are initializing BertForTokenClassification from the checkpoint of a model that you expect to be exactly identical (initializing a BertForSequenceClassification model from a BertForSequenceClassification model).\n",
      "Some weights of BertForTokenClassification were not initialized from the model checkpoint at bert-base-cased and are newly initialized: ['classifier.weight', 'classifier.bias']\n",
      "You should probably TRAIN this model on a down-stream task to be able to use it for predictions and inference.\n"
     ]
    },
    {
     "name": "stdout",
     "output_type": "stream",
     "text": [
      "{'entities': [{'confidence': 0.9638853073120117,\n",
      "               'definition': 'Person',\n",
      "               'index': 0,\n",
      "               'label': 'B-per',\n",
      "               'token': 'Obama'},\n",
      "              {'confidence': 0.9939144253730774,\n",
      "               'definition': 'Geographical Entity',\n",
      "               'index': 4,\n",
      "               'label': 'B-geo',\n",
      "               'token': 'Honolulu'},\n",
      "              {'confidence': 0.991294801235199,\n",
      "               'definition': 'Geographical Entity',\n",
      "               'index': 6,\n",
      "               'label': 'B-geo',\n",
      "               'token': 'Hawaii'},\n",
      "              {'confidence': 0.9797477126121521,\n",
      "               'definition': 'Organization',\n",
      "               'index': 11,\n",
      "               'label': 'B-org',\n",
      "               'token': 'Columbia'},\n",
      "              {'confidence': 0.983254611492157,\n",
      "               'definition': 'Organization',\n",
      "               'index': 12,\n",
      "               'label': 'I-org',\n",
      "               'token': 'University'},\n",
      "              {'confidence': 0.996993899345398,\n",
      "               'definition': 'Time Indicator',\n",
      "               'index': 14,\n",
      "               'label': 'B-tim',\n",
      "               'token': '1983'},\n",
      "              {'confidence': 0.9941704273223877,\n",
      "               'definition': 'Geographical Entity',\n",
      "               'index': 23,\n",
      "               'label': 'B-geo',\n",
      "               'token': 'Chicago'},\n",
      "              {'confidence': 0.9975076913833618,\n",
      "               'definition': 'Time Indicator',\n",
      "               'index': 26,\n",
      "               'label': 'B-tim',\n",
      "               'token': '1988'},\n",
      "              {'confidence': 0.9924579858779907,\n",
      "               'definition': 'Organization',\n",
      "               'index': 31,\n",
      "               'label': 'B-org',\n",
      "               'token': 'Harvard'},\n",
      "              {'confidence': 0.9863981604576111,\n",
      "               'definition': 'Organization',\n",
      "               'index': 32,\n",
      "               'label': 'I-org',\n",
      "               'token': 'Law'},\n",
      "              {'confidence': 0.9913071990013123,\n",
      "               'definition': 'Organization',\n",
      "               'index': 33,\n",
      "               'label': 'I-org',\n",
      "               'token': 'School'},\n",
      "              {'confidence': 0.9942294359207153,\n",
      "               'definition': 'Organization',\n",
      "               'index': 47,\n",
      "               'label': 'B-org',\n",
      "               'token': 'Harvard'},\n",
      "              {'confidence': 0.9902330636978149,\n",
      "               'definition': 'Organization',\n",
      "               'index': 48,\n",
      "               'label': 'I-org',\n",
      "               'token': 'Law'},\n",
      "              {'confidence': 0.9923283457756042,\n",
      "               'definition': 'Organization',\n",
      "               'index': 49,\n",
      "               'label': 'I-org',\n",
      "               'token': 'Review'},\n",
      "              {'confidence': 0.9773482084274292,\n",
      "               'definition': 'Organization',\n",
      "               'index': 69,\n",
      "               'label': 'B-org',\n",
      "               'token': 'University'},\n",
      "              {'confidence': 0.9627830982208252,\n",
      "               'definition': 'Organization',\n",
      "               'index': 70,\n",
      "               'label': 'I-org',\n",
      "               'token': 'of'},\n",
      "              {'confidence': 0.9760346412658691,\n",
      "               'definition': 'Organization',\n",
      "               'index': 71,\n",
      "               'label': 'I-org',\n",
      "               'token': 'Chicago'},\n",
      "              {'confidence': 0.9744589924812317,\n",
      "               'definition': 'Organization',\n",
      "               'index': 72,\n",
      "               'label': 'I-org',\n",
      "               'token': 'Law'},\n",
      "              {'confidence': 0.9777840375900269,\n",
      "               'definition': 'Organization',\n",
      "               'index': 73,\n",
      "               'label': 'I-org',\n",
      "               'token': 'School'},\n",
      "              {'confidence': 0.8765214085578918,\n",
      "               'definition': 'Time Indicator',\n",
      "               'index': 74,\n",
      "               'label': 'B-tim',\n",
      "               'token': 'from'},\n",
      "              {'confidence': 0.5328678488731384,\n",
      "               'definition': 'Time indicator',\n",
      "               'index': 75,\n",
      "               'label': 'I-tim',\n",
      "               'token': '1992'},\n",
      "              {'confidence': 0.9245888590812683,\n",
      "               'definition': 'Time indicator',\n",
      "               'index': 76,\n",
      "               'label': 'I-tim',\n",
      "               'token': 'to'},\n",
      "              {'confidence': 0.9680882692337036,\n",
      "               'definition': 'Time indicator',\n",
      "               'index': 77,\n",
      "               'label': 'I-tim',\n",
      "               'token': '2004'},\n",
      "              {'confidence': 0.27097898721694946,\n",
      "               'definition': 'Time Indicator',\n",
      "               'index': 88,\n",
      "               'label': 'B-tim',\n",
      "               'token': '13th'},\n",
      "              {'confidence': 0.8617467284202576,\n",
      "               'definition': 'Time Indicator',\n",
      "               'index': 90,\n",
      "               'label': 'B-tim',\n",
      "               'token': 'from'},\n",
      "              {'confidence': 0.5113644003868103,\n",
      "               'definition': 'Time indicator',\n",
      "               'index': 91,\n",
      "               'label': 'I-tim',\n",
      "               'token': '1997'},\n",
      "              {'confidence': 0.8317864537239075,\n",
      "               'definition': 'Time indicator',\n",
      "               'index': 92,\n",
      "               'label': 'I-tim',\n",
      "               'token': 'until'},\n",
      "              {'confidence': 0.8437127470970154,\n",
      "               'definition': 'Time indicator',\n",
      "               'index': 93,\n",
      "               'label': 'I-tim',\n",
      "               'token': '2004'},\n",
      "              {'confidence': 0.8978836536407471,\n",
      "               'definition': 'Organization',\n",
      "               'index': 96,\n",
      "               'label': 'B-org',\n",
      "               'token': 'Illinois'},\n",
      "              {'confidence': 0.9069280028343201,\n",
      "               'definition': 'Organization',\n",
      "               'index': 97,\n",
      "               'label': 'I-org',\n",
      "               'token': 'Senate'},\n",
      "              {'confidence': 0.9914037585258484,\n",
      "               'definition': 'Organization',\n",
      "               'index': 104,\n",
      "               'label': 'B-org',\n",
      "               'token': 'U'},\n",
      "              {'confidence': 0.9905405044555664,\n",
      "               'definition': 'Organization',\n",
      "               'index': 105,\n",
      "               'label': 'B-org',\n",
      "               'token': '.'},\n",
      "              {'confidence': 0.9905933737754822,\n",
      "               'definition': 'Organization',\n",
      "               'index': 106,\n",
      "               'label': 'B-org',\n",
      "               'token': 'S'},\n",
      "              {'confidence': 0.9898607730865479,\n",
      "               'definition': 'Organization',\n",
      "               'index': 107,\n",
      "               'label': 'B-org',\n",
      "               'token': '.'},\n",
      "              {'confidence': 0.9785251021385193,\n",
      "               'definition': 'Organization',\n",
      "               'index': 108,\n",
      "               'label': 'I-org',\n",
      "               'token': 'Senate'}],\n",
      " 'message': 'successful'}\n"
     ]
    }
   ],
   "source": [
    "from ner import NER\n",
    "from pprint import pprint\n",
    "\n",
    "ner = NER(lang_code=\"en\", min_words=10)\n",
    "pred = ner.predict_entities(text)\n",
    "pprint(pred)"
   ]
  },
  {
   "cell_type": "code",
   "execution_count": 15,
   "metadata": {
    "colab": {
     "base_uri": "https://localhost:8080/"
    },
    "id": "nRs_2z4njiWu",
    "outputId": "45f6bf96-283b-4fc0-973d-84240136d812"
   },
   "outputs": [
    {
     "name": "stdout",
     "output_type": "stream",
     "text": [
      "  adding: output/ (stored 0%)\n",
      "  adding: output/evaluation/ (stored 0%)\n",
      "  adding: output/evaluation/en_1.1/ (stored 0%)\n",
      "  adding: output/evaluation/en_1.1/train_masks.pkl (deflated 99%)\n",
      "  adding: output/evaluation/en_1.1/val_inputs.pkl (deflated 94%)\n",
      "  adding: output/evaluation/en_1.1/train_labels.pkl (deflated 99%)\n",
      "  adding: output/evaluation/en_1.1/train_inputs.pkl (deflated 94%)\n",
      "  adding: output/evaluation/en_1.1/train_history.png (deflated 14%)\n",
      "  adding: output/evaluation/en_1.1/val_masks.pkl (deflated 99%)\n",
      "  adding: output/evaluation/en_1.1/seq_length.png (deflated 28%)\n",
      "  adding: output/evaluation/en_1.1/val_labels.pkl (deflated 99%)\n",
      "  adding: output/models/ (stored 0%)\n",
      "  adding: output/models/en_1.1/ (stored 0%)\n",
      "  adding: output/models/en_1.1/model.pt (deflated 7%)\n",
      "  adding: output/label_index/ (stored 0%)\n",
      "  adding: output/label_index/en_1.1/ (stored 0%)\n",
      "  adding: output/label_index/en_1.1/label_index.json (deflated 55%)\n"
     ]
    }
   ],
   "source": [
    "!zip -r output.zip output"
   ]
  }
 ],
 "metadata": {
  "accelerator": "GPU",
  "colab": {
   "collapsed_sections": [],
   "name": "BERT-NER.ipynb",
   "provenance": []
  },
  "kernelspec": {
   "display_name": "Python 3 (ipykernel)",
   "language": "python",
   "name": "python3"
  },
  "language_info": {
   "codemirror_mode": {
    "name": "ipython",
    "version": 3
   },
   "file_extension": ".py",
   "mimetype": "text/x-python",
   "name": "python",
   "nbconvert_exporter": "python",
   "pygments_lexer": "ipython3",
   "version": "3.9.9"
  },
  "widgets": {
   "application/vnd.jupyter.widget-state+json": {
    "0b9fba36951a406c84c6e1aa0366d70f": {
     "model_module": "@jupyter-widgets/base",
     "model_name": "LayoutModel",
     "state": {
      "_model_module": "@jupyter-widgets/base",
      "_model_module_version": "1.2.0",
      "_model_name": "LayoutModel",
      "_view_count": null,
      "_view_module": "@jupyter-widgets/base",
      "_view_module_version": "1.2.0",
      "_view_name": "LayoutView",
      "align_content": null,
      "align_items": null,
      "align_self": null,
      "border": null,
      "bottom": null,
      "display": null,
      "flex": null,
      "flex_flow": null,
      "grid_area": null,
      "grid_auto_columns": null,
      "grid_auto_flow": null,
      "grid_auto_rows": null,
      "grid_column": null,
      "grid_gap": null,
      "grid_row": null,
      "grid_template_areas": null,
      "grid_template_columns": null,
      "grid_template_rows": null,
      "height": null,
      "justify_content": null,
      "justify_items": null,
      "left": null,
      "margin": null,
      "max_height": null,
      "max_width": null,
      "min_height": null,
      "min_width": null,
      "object_fit": null,
      "object_position": null,
      "order": null,
      "overflow": null,
      "overflow_x": null,
      "overflow_y": null,
      "padding": null,
      "right": null,
      "top": null,
      "visibility": null,
      "width": null
     }
    },
    "28a7e265dc704343b841515f93af1cb6": {
     "model_module": "@jupyter-widgets/controls",
     "model_name": "HTMLModel",
     "state": {
      "_dom_classes": [],
      "_model_module": "@jupyter-widgets/controls",
      "_model_module_version": "1.5.0",
      "_model_name": "HTMLModel",
      "_view_count": null,
      "_view_module": "@jupyter-widgets/controls",
      "_view_module_version": "1.5.0",
      "_view_name": "HTMLView",
      "description": "",
      "description_tooltip": null,
      "layout": "IPY_MODEL_a6a52c40e3ba47e8a64ae7779af51f69",
      "placeholder": "​",
      "style": "IPY_MODEL_600fc564c77a45aea4db1e8195ca64d4",
      "value": " 436M/436M [00:05&lt;00:00, 73.5MB/s]"
     }
    },
    "2d93cc1c1fe44524855bae80a5d6c953": {
     "model_module": "@jupyter-widgets/controls",
     "model_name": "HBoxModel",
     "state": {
      "_dom_classes": [],
      "_model_module": "@jupyter-widgets/controls",
      "_model_module_version": "1.5.0",
      "_model_name": "HBoxModel",
      "_view_count": null,
      "_view_module": "@jupyter-widgets/controls",
      "_view_module_version": "1.5.0",
      "_view_name": "HBoxView",
      "box_style": "",
      "children": [
       "IPY_MODEL_e9a0f7fae1d04dee8a8816981a6dfa26",
       "IPY_MODEL_28a7e265dc704343b841515f93af1cb6"
      ],
      "layout": "IPY_MODEL_534b32b2ccdc43f780c6cefabfcbfc82"
     }
    },
    "2f763bb34eaf446bb9c1fab6bb043030": {
     "model_module": "@jupyter-widgets/controls",
     "model_name": "HTMLModel",
     "state": {
      "_dom_classes": [],
      "_model_module": "@jupyter-widgets/controls",
      "_model_module_version": "1.5.0",
      "_model_name": "HTMLModel",
      "_view_count": null,
      "_view_module": "@jupyter-widgets/controls",
      "_view_module_version": "1.5.0",
      "_view_name": "HTMLView",
      "description": "",
      "description_tooltip": null,
      "layout": "IPY_MODEL_71dfed37be454ef78583c0469796da91",
      "placeholder": "​",
      "style": "IPY_MODEL_500b60e7a909414590174fec6054af80",
      "value": " 433/433 [00:00&lt;00:00, 14.7kB/s]"
     }
    },
    "3e1525e4f53d40dcb1677a816b0492ea": {
     "model_module": "@jupyter-widgets/controls",
     "model_name": "ProgressStyleModel",
     "state": {
      "_model_module": "@jupyter-widgets/controls",
      "_model_module_version": "1.5.0",
      "_model_name": "ProgressStyleModel",
      "_view_count": null,
      "_view_module": "@jupyter-widgets/base",
      "_view_module_version": "1.2.0",
      "_view_name": "StyleView",
      "bar_color": null,
      "description_width": "initial"
     }
    },
    "500b60e7a909414590174fec6054af80": {
     "model_module": "@jupyter-widgets/controls",
     "model_name": "DescriptionStyleModel",
     "state": {
      "_model_module": "@jupyter-widgets/controls",
      "_model_module_version": "1.5.0",
      "_model_name": "DescriptionStyleModel",
      "_view_count": null,
      "_view_module": "@jupyter-widgets/base",
      "_view_module_version": "1.2.0",
      "_view_name": "StyleView",
      "description_width": ""
     }
    },
    "534b32b2ccdc43f780c6cefabfcbfc82": {
     "model_module": "@jupyter-widgets/base",
     "model_name": "LayoutModel",
     "state": {
      "_model_module": "@jupyter-widgets/base",
      "_model_module_version": "1.2.0",
      "_model_name": "LayoutModel",
      "_view_count": null,
      "_view_module": "@jupyter-widgets/base",
      "_view_module_version": "1.2.0",
      "_view_name": "LayoutView",
      "align_content": null,
      "align_items": null,
      "align_self": null,
      "border": null,
      "bottom": null,
      "display": null,
      "flex": null,
      "flex_flow": null,
      "grid_area": null,
      "grid_auto_columns": null,
      "grid_auto_flow": null,
      "grid_auto_rows": null,
      "grid_column": null,
      "grid_gap": null,
      "grid_row": null,
      "grid_template_areas": null,
      "grid_template_columns": null,
      "grid_template_rows": null,
      "height": null,
      "justify_content": null,
      "justify_items": null,
      "left": null,
      "margin": null,
      "max_height": null,
      "max_width": null,
      "min_height": null,
      "min_width": null,
      "object_fit": null,
      "object_position": null,
      "order": null,
      "overflow": null,
      "overflow_x": null,
      "overflow_y": null,
      "padding": null,
      "right": null,
      "top": null,
      "visibility": null,
      "width": null
     }
    },
    "600fc564c77a45aea4db1e8195ca64d4": {
     "model_module": "@jupyter-widgets/controls",
     "model_name": "DescriptionStyleModel",
     "state": {
      "_model_module": "@jupyter-widgets/controls",
      "_model_module_version": "1.5.0",
      "_model_name": "DescriptionStyleModel",
      "_view_count": null,
      "_view_module": "@jupyter-widgets/base",
      "_view_module_version": "1.2.0",
      "_view_name": "StyleView",
      "description_width": ""
     }
    },
    "6cf77101dcfc4911b49d6f8dab6c52fc": {
     "model_module": "@jupyter-widgets/controls",
     "model_name": "HBoxModel",
     "state": {
      "_dom_classes": [],
      "_model_module": "@jupyter-widgets/controls",
      "_model_module_version": "1.5.0",
      "_model_name": "HBoxModel",
      "_view_count": null,
      "_view_module": "@jupyter-widgets/controls",
      "_view_module_version": "1.5.0",
      "_view_name": "HBoxView",
      "box_style": "",
      "children": [
       "IPY_MODEL_dead053fe6414eec85bc470b58500bd1",
       "IPY_MODEL_2f763bb34eaf446bb9c1fab6bb043030"
      ],
      "layout": "IPY_MODEL_72e948cf19ce41619efcb37d616c8212"
     }
    },
    "71dfed37be454ef78583c0469796da91": {
     "model_module": "@jupyter-widgets/base",
     "model_name": "LayoutModel",
     "state": {
      "_model_module": "@jupyter-widgets/base",
      "_model_module_version": "1.2.0",
      "_model_name": "LayoutModel",
      "_view_count": null,
      "_view_module": "@jupyter-widgets/base",
      "_view_module_version": "1.2.0",
      "_view_name": "LayoutView",
      "align_content": null,
      "align_items": null,
      "align_self": null,
      "border": null,
      "bottom": null,
      "display": null,
      "flex": null,
      "flex_flow": null,
      "grid_area": null,
      "grid_auto_columns": null,
      "grid_auto_flow": null,
      "grid_auto_rows": null,
      "grid_column": null,
      "grid_gap": null,
      "grid_row": null,
      "grid_template_areas": null,
      "grid_template_columns": null,
      "grid_template_rows": null,
      "height": null,
      "justify_content": null,
      "justify_items": null,
      "left": null,
      "margin": null,
      "max_height": null,
      "max_width": null,
      "min_height": null,
      "min_width": null,
      "object_fit": null,
      "object_position": null,
      "order": null,
      "overflow": null,
      "overflow_x": null,
      "overflow_y": null,
      "padding": null,
      "right": null,
      "top": null,
      "visibility": null,
      "width": null
     }
    },
    "72e948cf19ce41619efcb37d616c8212": {
     "model_module": "@jupyter-widgets/base",
     "model_name": "LayoutModel",
     "state": {
      "_model_module": "@jupyter-widgets/base",
      "_model_module_version": "1.2.0",
      "_model_name": "LayoutModel",
      "_view_count": null,
      "_view_module": "@jupyter-widgets/base",
      "_view_module_version": "1.2.0",
      "_view_name": "LayoutView",
      "align_content": null,
      "align_items": null,
      "align_self": null,
      "border": null,
      "bottom": null,
      "display": null,
      "flex": null,
      "flex_flow": null,
      "grid_area": null,
      "grid_auto_columns": null,
      "grid_auto_flow": null,
      "grid_auto_rows": null,
      "grid_column": null,
      "grid_gap": null,
      "grid_row": null,
      "grid_template_areas": null,
      "grid_template_columns": null,
      "grid_template_rows": null,
      "height": null,
      "justify_content": null,
      "justify_items": null,
      "left": null,
      "margin": null,
      "max_height": null,
      "max_width": null,
      "min_height": null,
      "min_width": null,
      "object_fit": null,
      "object_position": null,
      "order": null,
      "overflow": null,
      "overflow_x": null,
      "overflow_y": null,
      "padding": null,
      "right": null,
      "top": null,
      "visibility": null,
      "width": null
     }
    },
    "9209ce2eb24b45f1be82d2ddc5d1de82": {
     "model_module": "@jupyter-widgets/controls",
     "model_name": "ProgressStyleModel",
     "state": {
      "_model_module": "@jupyter-widgets/controls",
      "_model_module_version": "1.5.0",
      "_model_name": "ProgressStyleModel",
      "_view_count": null,
      "_view_module": "@jupyter-widgets/base",
      "_view_module_version": "1.2.0",
      "_view_name": "StyleView",
      "bar_color": null,
      "description_width": "initial"
     }
    },
    "a6a52c40e3ba47e8a64ae7779af51f69": {
     "model_module": "@jupyter-widgets/base",
     "model_name": "LayoutModel",
     "state": {
      "_model_module": "@jupyter-widgets/base",
      "_model_module_version": "1.2.0",
      "_model_name": "LayoutModel",
      "_view_count": null,
      "_view_module": "@jupyter-widgets/base",
      "_view_module_version": "1.2.0",
      "_view_name": "LayoutView",
      "align_content": null,
      "align_items": null,
      "align_self": null,
      "border": null,
      "bottom": null,
      "display": null,
      "flex": null,
      "flex_flow": null,
      "grid_area": null,
      "grid_auto_columns": null,
      "grid_auto_flow": null,
      "grid_auto_rows": null,
      "grid_column": null,
      "grid_gap": null,
      "grid_row": null,
      "grid_template_areas": null,
      "grid_template_columns": null,
      "grid_template_rows": null,
      "height": null,
      "justify_content": null,
      "justify_items": null,
      "left": null,
      "margin": null,
      "max_height": null,
      "max_width": null,
      "min_height": null,
      "min_width": null,
      "object_fit": null,
      "object_position": null,
      "order": null,
      "overflow": null,
      "overflow_x": null,
      "overflow_y": null,
      "padding": null,
      "right": null,
      "top": null,
      "visibility": null,
      "width": null
     }
    },
    "dead053fe6414eec85bc470b58500bd1": {
     "model_module": "@jupyter-widgets/controls",
     "model_name": "FloatProgressModel",
     "state": {
      "_dom_classes": [],
      "_model_module": "@jupyter-widgets/controls",
      "_model_module_version": "1.5.0",
      "_model_name": "FloatProgressModel",
      "_view_count": null,
      "_view_module": "@jupyter-widgets/controls",
      "_view_module_version": "1.5.0",
      "_view_name": "ProgressView",
      "bar_style": "success",
      "description": "Downloading: 100%",
      "description_tooltip": null,
      "layout": "IPY_MODEL_e8a30398bfb34230ae4d06163b452bba",
      "max": 433,
      "min": 0,
      "orientation": "horizontal",
      "style": "IPY_MODEL_3e1525e4f53d40dcb1677a816b0492ea",
      "value": 433
     }
    },
    "e8a30398bfb34230ae4d06163b452bba": {
     "model_module": "@jupyter-widgets/base",
     "model_name": "LayoutModel",
     "state": {
      "_model_module": "@jupyter-widgets/base",
      "_model_module_version": "1.2.0",
      "_model_name": "LayoutModel",
      "_view_count": null,
      "_view_module": "@jupyter-widgets/base",
      "_view_module_version": "1.2.0",
      "_view_name": "LayoutView",
      "align_content": null,
      "align_items": null,
      "align_self": null,
      "border": null,
      "bottom": null,
      "display": null,
      "flex": null,
      "flex_flow": null,
      "grid_area": null,
      "grid_auto_columns": null,
      "grid_auto_flow": null,
      "grid_auto_rows": null,
      "grid_column": null,
      "grid_gap": null,
      "grid_row": null,
      "grid_template_areas": null,
      "grid_template_columns": null,
      "grid_template_rows": null,
      "height": null,
      "justify_content": null,
      "justify_items": null,
      "left": null,
      "margin": null,
      "max_height": null,
      "max_width": null,
      "min_height": null,
      "min_width": null,
      "object_fit": null,
      "object_position": null,
      "order": null,
      "overflow": null,
      "overflow_x": null,
      "overflow_y": null,
      "padding": null,
      "right": null,
      "top": null,
      "visibility": null,
      "width": null
     }
    },
    "e9a0f7fae1d04dee8a8816981a6dfa26": {
     "model_module": "@jupyter-widgets/controls",
     "model_name": "FloatProgressModel",
     "state": {
      "_dom_classes": [],
      "_model_module": "@jupyter-widgets/controls",
      "_model_module_version": "1.5.0",
      "_model_name": "FloatProgressModel",
      "_view_count": null,
      "_view_module": "@jupyter-widgets/controls",
      "_view_module_version": "1.5.0",
      "_view_name": "ProgressView",
      "bar_style": "success",
      "description": "Downloading: 100%",
      "description_tooltip": null,
      "layout": "IPY_MODEL_0b9fba36951a406c84c6e1aa0366d70f",
      "max": 435779157,
      "min": 0,
      "orientation": "horizontal",
      "style": "IPY_MODEL_9209ce2eb24b45f1be82d2ddc5d1de82",
      "value": 435779157
     }
    }
   }
  }
 },
 "nbformat": 4,
 "nbformat_minor": 4
}
