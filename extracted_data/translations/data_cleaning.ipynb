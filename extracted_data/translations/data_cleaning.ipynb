{
 "cells": [
  {
   "cell_type": "code",
   "execution_count": 1,
   "metadata": {},
   "outputs": [],
   "source": [
    "import html\n",
    "import re\n",
    "\n",
    "def clean_file(path):\n",
    "    f = open(path, 'r', encoding=\"utf-8\")\n",
    "    content = html.unescape(f.read())\n",
    "    # print(content)\n",
    "    search = re.search(\"<span><p class=............>(.*)</p></span>\", content)\n",
    "    # search = re.search(\"<span><p class=(.*)</p></span>\", content)\n",
    "    if search != None:\n",
    "        body = re.sub(\"<.*?>\", \"\", search.group(1))\n",
    "        return body\n",
    "    else:\n",
    "        return \"\""
   ]
  },
  {
   "cell_type": "code",
   "execution_count": 2,
   "metadata": {},
   "outputs": [
    {
     "data": {
      "text/plain": [
       "'TOP SECRETDuring my visit to Washington, Brazil, and passing through Mexico, I had a few meetings with US President John Kennedy, his brother, Robert Kennedy, and a few other figures from the President’s circle. In Brazil I met with President [João] Goulart, Prime Minister [Tancredo] Neves, Minister of International [Foreign] Affairs [San Tiago] Dantos, and a few other officials. In Mexico I had a short conversation with President [Adolfo] Lopez Mateos. Telegrams were dispatched to Moscow from these countries in which the character of these conversations was reported. I would like to report to the Central Committee a few more details and circumstances about the meetings and conversations which occurred in the USA which will help to complete the picture.Firstly, what surprised American journalists and journalists of other Western nations accredited to Washington was the heightened interest of American society in the very fact, as [columnist Walter] Lippmann expressed it, of the contact between the USA and the USSR on various levels. When I was in the United States this concerned M. Kharlamov’s meeting with [White House press secretary] P[ierre]. Salinger. The newspapers made a lot of noise about the possibility of J. Kennedy making a trip to the USSR. Finally there was talk of the president’s inviting me to breakfast. There were a number of conjectures on this account and many direct questions at the time of the reception at the embassy, at which many notable American journalists were present: Lippmann, [St. Louis Post-Dispatch correspondent Marquis] Childs, [New York Times reporter James] Reston, [New York Herald-Tribune correspondent Marguerite] Higgins, directors of television and radio companies, etc. It was possible to understand from the conversations with these journalists, from the announcements of the services, that in the United States there is now a heightened nervousness and extraordinary interest in taking any step, which could occur in one way or another, that from the point of view of Americans promotes the possibility of reconciling American-Soviet differences. Much has happened to me in America, but I have never seen such agitated anticipation for the improvement of relations between our countries as exists now.Nikita Sergeyevich Khrushchev said that the hour has come—the American nation is beginning to wake up and Americans are ceasing to be lazy seals that warm themselves on warm shores. It is clear that the time is approaching. In any case, as the most experienced American journalists say frankly, in many respects they can’t figure Americans out. Thus Childs has said about the persecution of the Communist party in the USA: “If it was not for this occurring, it is possible that in the past thousands of Americans, especially the youth, would not have demonstrated a large interest towards Marxism and your ideas. Even now when I [visit] universities, because I am familiar with Russia in a way, they don’t ask me about my travels in other countries but what I think about communism.” When I told Lippmann that there is a very positive atmosphere at the Soviet embassy, he laughed and rejoined:“And how! You’ve signed the German peace treaty, established a border in Berlin, put a gate there, and since you signed the agreement a war hasn’t started, and now everything is settling normally.”I gave the appearance that I did not understand Lippmann, and said to him:“The agreement is still not signed. You are clearly getting ahead of events.”“No, it is you who have gotten ahead of events,” Lippmann remarked, “you understand everything wonderfully, and most importantly, your premier understands this.”At this very moment a few other American journalists approached us, including Childs and Reston. Hearing what was being said, one of them remarked:“I am sure that you will not sign the German peace treaty for a long time yet.”“Why?” I asked.“Because it is very convenient to have a callus on the foot of your neighbor who you don’t particularly like. There is always the possibility in such cases of unintentionally disturbing this callus and doing your neighbor harm, but then [you can] excuse yourself and say that it was an accident.”At the time of the conversation about Germany and the problem of West Berlin it was perceived that the American journalists lacked the level of interest they had only a few months ago.Violating all norms of protocol, a few dozen American journalists and Kennedy advisers stayed at the Soviet embassy until almost midnight. If I were to summarize the conversation that occurred that night it would go something like this. Eisenhower became president of the USA at first because in the eyes of the American people he was considered to be a hero of the Second World War. But the second time, in this very capacity, Eisenhower came forward like a peacemaker in the Korean War. His announcement that if elected he would succeed in achieving a Korean peace practically won him the presidency. Kennedy did not have many of Eisenhower’s advantages with regard to popularity. Kennedy’s administration, and the journalists and newspapers which supported Kennedy, including a number of prominent newspapers like the New York Times, tried to do his political business for him. The newspapers were full of various articles telling the story of the ascent of John Kennedy. They talked about his service in the navy during the war, and there were big advertisements on the occasion of his various appearances and speeches; there was [also] the story about the Kennedy family as being the ideal American family. One of the journalists even said to me as a joke: “We know that the Soviet Union struggles with the cult of personality. It is clear that we have begun our own cult of Kennedy and it may be that at some point we will have to struggle with this cult.”It goes without saying that Kennedy was often worried and was preoccupied with the idea that it would be difficult for him to win the votes [needed] for a second term. Kennedy had already announced his candidacy and his administration was ready to actively cultivate public opinion; of that there could be no doubt. However, Kennedy himself, his brother, and those people closest to him until that time were extremely alarmed that Kennedy had not won the election with a very large advantage over the Republicans. Now they are making every effort to start a new election campaign and gain a firmer position from which to go to the polls against the Republicans more boldly. This circumstance is forcing Kennedy and his closest people to take various measures in connection with all of the following methods. I’ve already spoken about one of these, the Cult of Kennedy. A second is to present the affair in this manner – Kennedy has gathered around himself the most intelligent Americans and that he organized a dynamic administration. Not without obvious pleasure, journalists announced that Kennedy himself and those closest to him openly mocked Eisenhower who was now openly called the Golf President. In connection with this, Reston told me a joke, which as he expressed it, he tried not to tell to foreigners during the reign of Eisenhower: “When Ike planned to go to meet you, the Soviet Union, there were rumors in America that Mister Khrushchev prepared a field to play golf somewhere in Moscow.[1] In that connection we said: “When Ike plays golf in the USA that is only half the trouble. When he wins or loses in America it concerns only us Americans in the end. Premier Khrushchev will surely lose to Eisenhower at golf in the Soviet Union, and along with this victory, the old man will lose to Khrushchev in completely different terms.”This was one extremely important thing for Kennedy and any other future American president. The President of the United States must be able to speak, so they say, with Soviet leaders. In the end, this advantage seemed to be the most important. With good reason, so they say, during agitation at meetings many voices really rallied around Kennedy, saying: “[Eisenhower’s vice president, Richard M.] Nixon cannot talk with Premier Khrushchev, and if he can it is only in the kitchen (in that way, the conversation between Nixon and N. S. Khrushchev in the kitchen of a typical American household during the American exhibition in Moscow [in July 1959] was ironically ridiculed.) Kennedy knows how to speak with Premier Khrushchev.”The Kennedy administration has persistently influenced the American people in the manner described above. Kennedy himself and his circle, however, are worried that he will not be able to prove to Americans in time his ability to make agreements and reconcile the continuous questions about the Soviet Union. When Childs and I said goodbye to one another (Childs and I have been acquainted for a long time. We participated together in the New Year’s discussion in 1959 in Paris), he frankly said: “We came to the Soviet embassy today [and] spent so much time here because we supposed that Kennedy had obviously decided to show that he is seriously beginning a serious dialogue with Khrushchev.” I answered that I could not vouch for Kennedy but that as concerns the Soviet government it is always prepared for serious conversations regarding the resolution of differences. Childs added: “As you know, I sympathize with the Democrats and am worried about Kennedy. He maintains approximately 125,000 reservists in the army. This is 125,000 votes against him, plus their wives, fiancés, mothers, and fathers, that is, around half a million votes. In November 1962, elections will be held for the House of Representatives and one-third of the seats in the Senate. Although in the United States the president can do without a majority in either the Senate or the House, it is better to nevertheless have this majority. In this fashion, the November 1962 elections,” continued Childs, “will be a kind of rehearsal before his re-election campaign, which Kennedy will begin sometime in 1963.”The day after my trip to Washington the president had me over for breakfast [on 30 January 1962], at which his wife, her sister and [Georgi] Bolshakov and his wife were in attendance.[2] This detail drew my attention. When I exchanged greetings with Kennedy he almost immediately directed the conversation towards Cuba and how I liked it there. Receiving a suitable answer, he paused a little and said:“How is Che Guevara?”I answered that he didn’t seem to look bad, although I didn’t see him often, and asked him in turn, why was the president suddenly interested in one of the participants of the Cuban revolution?“I read some dispatches to the press,” answered Kennedy.In turn I remarked: “You are interested in the events in Cuba, that is your right. But when we read that the USA plans to invade Cuba, we don’t think that this is your right.”“We are not planning an invasion of Cuba,” Kennedy answered.I reminded him: “And what of the mercenaries from Guantanamo and those other countries? You already changed your opinion regarding the landing in April 1961, that it was a mistake for America?”Kennedy hit his fist on the table and said:“Once I summoned [then CIA director] Allen Dulles and rebuked him. I said to him: ‘learn from the Russians. When they had a tough situation in Hungary [in 1956], they put an end to the conflict in just three days. When they didn’t like the events in Finland, the president of that country went to meet with the Soviet premier in Siberia, and everything was worked out. And you, Dulles, couldn’t do a thing.’”I answered the President:“With regard to Hungary, your analogy with Cuba is entirely untenable. With regard to Finland, well maybe this is the case, which should make the United States aware that they need to learn to respect Cuba. After all, we respect Finland. Even though Capitalist elements exist within it, the president of a bourgeois government retains good relations with the Soviet Union.”Kennedy became quiet, and then with earnestness said:“From a psychological point of view, it is very hard for the American people to agree with what is going on in Cuba. After all it is only 90 miles from our coast. It is very hard,” he repeated, and then added, “Cuba fell from within.”“It is necessary to become reconciled with a great many things,” I remarked to the President. “And there are a great many things to become accustomed to, and it is clear that there are a great number of new things that the American people must get used to. Only do not meddle in events in Cuba, this is most important. But your people understand this.”Kennedy remarked sharply:“We will not meddle with events in Cuba.”“It’s a very big shame, Mister President,” I said to him, “that your words are not allowed to be published in the newspapers.”Kennedy asked the question: “How would Castro react to the fact that you were invited to Washington from Havana?”I said that Castro was very happy about this, he has an appreciation for peaceful coexistence which would include an improvement in US relations.“We can talk more about this after breakfast, if you permit it.”Then, as I have already written, Kennedy sent Salinger and [US interpreter Alexander A.] Akalovsky away, and asked Bolshakov to be the interpreter. The conversation continued for almost two hours. The content of the conversation has already been announced from Washington.In the course of the conversation, Kennedy said that he was going to a press conference the following day, one which was usually held at the State Department. At the press conference there were more than 400 journalists present. There was a heightened sense of interest towards it. Although this conference occurred immediately after the completion of the conference in Punta-del-Este, Kennedy was, however, literally tongue-tied and uttered only a few words about the inter-American conference.[3]He was not asked one question in connection with this conference. In the corridors American journalists asked: “What is there to ask the president, when the United States has failed? Brazil, Mexico and other nations gave us a slap in the face.”There was one question asked which frustrated Kennedy. One of the journalists asked: “In connection with the conclusion of the conference at Punta-del-Este, did the United States return to normal trade relations with Cuba, or will it still not be possible to buy cigars there?” In a malcontented tone, [Kennedy responded] “I am not involved in the proceedings of that event. It seems that there is some talk about the sale of some medical supplies. Maybe we will receive cigars in return.” And that prompted an explosion of laughter in the hall.A few questions about Soviet-American relations were asked, which included one question about whether Kennedy is planning to visit the Soviet Union and whether or not he has some kind of invitation to do so. Kennedy was troubled by this question, and was feeling particularly clumsy because of the presence of Soviet journalists. His answer was evasive, meaning approximately that he would like to [visit the Soviet Union], but he was not invited.At that time the theme of Kennedy traveling to the Soviet Union and meeting with N. S. Khrushchev appeared continuously in American newspapers. Americans with whom I have had the opportunity to speak ask this question if they are in some way interested in political questions.I would also like to point out one more fact in connection with Kennedy’s press conference. He was asked many empty, overtly demagogic questions on third-rate problems. This created the impression that this “waste of time” is a very “American tradition” created by the imperial propaganda machine for the befuddlement of the people.After the press conference, Kennedy asked about one more meeting, which as he expressed it would be of a strictly confidential character. This has already been reported to Moscow.Mind you, the president has a fear of being simple and open before Soviet journalists. Through Bolshakov, Salinger agreed that at 6:00 that evening he would send a car for me from the White House, in which I would ride around the city so that journalists would not discover the president’s new meeting with a Soviet editor. And sure enough, the car carried us down some long streets, and at last we arrived at the White House at the president’s private entrance. The gate opened quickly, we were asked for no documents, and the car went immediately through the entrance.Kennedy was waiting and walking around the corridor. He immediately came into the room and in a nervous tone began the conversation. Gesticulating, he said: “Your armies are in Europe. I know the strength and potential of your military machine. Khrushchev can, of course”—and Kennedy made a gesture with his hands—“can take West Berlin. But then this would possibly provoke a rupture of relations between the Western nations and your nation and lead to tension.”“I want to emphasize to you again with all seriousness that it is my plan to find some [mutually] beneficial solution to this problem, which does not encroach on the positions that you cannot give up, as well as those positions, from which we cannot retreat. I ask you to report, and if possible, to do it [only] orally, that the US, England, and France are opposed to German reunification. Such a dynamic and powerful state would be a cause of concern for us. We realize that unification is unrealistic; however, [publicly] I must speak about unification. And because of this there could be no talk about recognizing the GDR [German Democratic Republic; East Germany], and nor the border on the Elbe [i.e. the border between the two Germanys]. With respect to other border questions, it is completely possible that steps intended to regulate our disputes will lead to an announcement of the recognition of borders on the Oder and Neisse.”Kennedy very insistently, as in the first conversation, harped on the idea that in the next several years it will be necessary to work out some mutually-agreeable relations that will lead to some softening of the general world situation and permit, as he expressed it, a more composed perspective from which to observe the state of affairs in the world. In connection with this he said that in Laos he will “tie Boun Oum’s arms” if for our part we guarantee him the Pathet Lao’s equanimity.[4]Kennedy is clearly worried about the situation in Southeast Asia and particularly, of course, in South Vietnam. He did not answer any questions about South Vietnam and the position of the United States in South Korea and did not want to continue the conversation on this theme, uttering the general phrase that neither the USSR nor the USA had any major interests in that region and we have to keep this in mind before all other things. He once again repeated the idea previously addressed that the United States of America and the Soviet Union send many weapons there, but these weapons and these complications can be used by a third power more interested in a conflict between the USA and the USSR.[5]Then Kennedy long-windedly talked about how he emphasized with utmost urgency the Berlin problem. Continuing the previous conversation, he said that he would like a more constructive and, as he stated it more precisely, a more personal dialogue between [Soviet Foreign] Minister [Andrei] Gromyko and [US Ambassador in Moscow Llewellyn E.] Thompson insofar as they now only exchange general declarations. “We would like,” Kennedy said, “for them to sit at a table, have in their hands the map of Germany and begin to look for possibilities for a settlement, which would be equally agreeable to the Soviet Union and the United States of America. I want your government to understand: it is impossible for us to leave West Berlin or to permit a Soviet military presence there.” In connection with my question, Why can’t the question of a guarantee come from the United Nations or the neutral nations[?], he said that this is also not possible, that it would lead to the total collapse of the Western Bloc. “You understand,” he began to say in a concerned way, “the more complex our relations become in Berlin and Germany, the more insistent [West German Chancellor Konrad] Adenauer becomes. For the time being I am restraining him and have sufficient arguments for not giving him atomic weapons. However, these high-level complications that are arising between us are prompting retaliatory forces in West Berlin.” Kennedy was obviously calculating that this phrase on some level would, if not frighten us per se, intimidate us.Kennedy answered: “It is not that we are afraid of West Germany and the president understands this perfectly.” Maybe this is a delicate question – I asked Kennedy whether the United States was afraid of West Germany, or still more whether England and France were afraid of West Germany.“It is possible to be afraid of the Germans,” Kennedy answered. Then he said: “I understand that you and your allies can’t use the words ‘occupation force.’ But with regard to a small contingent of soldiers, it would be possible to find a different name. Now about the access,” Kennedy continued. “I see things realistically. Insofar as you object to international control of the highway [between West Berlin and West Germany], it is senseless for us to insist on it. After all the officers of the GDR are already (I thanked the president for pronouncing the full name, the German Democratic Republic, before me for the first time) putting their stamps [in documents]. The important thing is not who is affixing the stamps. Could you and I fantasize a bit (this is exactly what he said) about some compromise steps regarding Western powers’ access to West Berlin? We are ready to meet the Soviet Union halfway and we will not have political ties with the FRG [Federal Republic of Germany; West Germany]. Maybe you too could meet us halfway in terms of some softening on the Western positions in the issue of access.Then the president developed this idea: the situation could arise that the Soviet fleet was carried by storm into the waters of [Francisco] Franco’s Spain. “In such a case you would not be able to make contact with Franco, but would you not ask that a third power somehow intercede on your behalf?”“We already tried to do this, when the question arose about the Soviet tanker Tuapse, which was seized in a bandit fashion by your friend Chiang Kai Shek [Jiang Jieshi] and nothing came of out it.”“Let’s not talk about the past,” the president said. “We also have friends we don’t like. So, if an American caravan of freight cars gets into a conflict on a highway, we cannot – and don’t not try forcing us to do —do it – beginning a dialogue with [GDR leader Walter] Ulbricht. It would clearly mean being pulled into recognizing the GDR. To whom would we turn in such a case to deescalate, to untie this crisis?”I answered that if it was defined by this simple analogy, it was obvious [that the US would turn] to some sort of third power.Kennedy said: “Now maybe it will be worthwhile to fantasize around this.” Once again he emphasized: “We understand we cannot win international control, and of course it is foolish to cling to that which will not be put in writing.”Then Kennedy spoke about how they worked out with [British Prime Minister Harold] Macmillan a new pretext for disarmament, which he considers would meet with a constructive response from the Soviet government side.(One can imagine how stunned Kennedy was when he heard about our plan to convene the Eighteen Nation Disarmament Committee at the highest level. This undoubtedly struck out Kennedy and Macmillan’s hopes to [have the] initiative.) Then Kennedy said that he personally welcomes the contact which existed between Bolshakov and Robert Kennedy, insofar as it gives him the possibility to manage without the services of a translator from the State Department. These observations show that surely in the presence of Akolovsky and even Salinger – a person closer to him the president speaks with a completely different tongue and is visibly more tense.He asked: “Was your conversation with Robert Kennedy after breakfast interesting?”I answered that his brother was quiet and said almost nothing about international problems. Then I matter-of-factly asked the president:“I recently saw in Life magazine a big portrait of your brother, Robert Kennedy, below which was a passage: ‘The number 2 man. The hard-line, unrelenting, younger brother.’ Is this accurate that Robert Kennedy has become the #2 man in the USA?”Kennedy was surprised:“Even you turned your attention to this? I spoke with my brother on this subject and said to him that if he is planning to become No. 1 this would not be so easy for him, and that he would sooner become No. 3, No. 4, No. 5, No. 6.”“By the way – remarked Kennedy – there was quite a scandal with regard to [my] brother’s [proposed] trip to the Soviet Union. We are now trying to find a person in the State Department, who [could] make it public that Robert might visit the Soviet Union as a private citizen. I very much wanted him to meet with Chairman Khrushchev. But when the American press created a scandal, we were forced to deny it. Clearly, here we need to arrange all these things more simply,” remarked Kennedy. “Look here, you invited Salinger to Moscow and the Republicans are already attacking Salinger and me.”Saying goodbye after the conversation, he asked me to give his greetings to N. S. Khrushchev in the hopes, as he said smiling “of the possibility of a calmer meeting than in Vienna, where I was more concerned about how to behave in front of a whole pack of journalists.”Then Kennedy asked me how I spent my day in Washington. I answered that Washington is always boring because there is nowhere to go here: there are no theaters, no good concert hall. “But tomorrow you will have a violin concert —I noted—it will be quite interesting to attend.”“Yes,” Kennedy confirmed, “Washington is certainly a capital without theaters. As you know, we plan to build a large cultural center in Washington, but this would require nearly 30 million dollars. Right now my wife and I are occupied with writing letters to various parties to give donations for the construction. But it is going very slowly. People don’t want to part with the money.”[6]“But why wouldn’t you, Mr. President,” I asked Kennedy, “give the money from your own private means? After all your family is very rich, and if you made such a grand gesture you would probably obtain a good many kind words for your own household.”Kennedy smiled and said completely frankly:“Yes, but here we are talking about my own money.”The next morning when I was intending to leave for New York to board my flight for Mexico, [former US ambassador to Moscow and now State Department official W. Averell] Harriman unexpectedly called me and said that he was prepared to go to the Soviet Embassy to see me for a few minutes or, if it was more convenient, asked me to see him. I answered that it would be better if I dropped in on Mr. Harriman. The conversation with Harriman took 15 or 20 minutes and was of a general character. Harriman was concerned with Laos, and reiterated Kennedy’s idea a few times that it would be good to agree about Laos. Then he asked me to send Khrushchev a big hello and said that he remembered the meeting with Nikita Sergeevich and was happy to welcome him at his home.“All our family remembers this visit and remembers that the Chairman carried the conversation lightly and nonchalantly,” Harriman said. “I am an old man but I dream about a new meeting with Khrushchev and am sure we will certainly speak about US-Soviet relations.”Harriman asked permission for several journalists and photographers to come into his office and repeat his greeting for N. S. Khrushchev and to say again in the presence of the press that he would like to meet with N. S. Khrushchev to discuss many important problems. This was all obviously done with the consideration that Harriman’s name would once again appear in print, especially in connection with [the fact] that he is acquainted with and has spoken to N. S. Khrushchev.Adzhubei[1] Ed. Note: An Eisenhower visit to the Soviet Union was planned for the summer of 1960—reciprocating Khrushchev’s visit to the United States in September 1959—but the trip was cancelled after the collapse of the May 1960 East-West summit in Paris as a result of the Soviet downing of a US U-2 reconnaissance plane and Eisenhower’s refusal to apologize for sending it. \\xa0[2] Ed. note: Bolshakov, a Soviet military intelligence (GRU) officer at the Soviet Embassy in Washington, had established a cordial liaison to JFK through the president’s brother, Robert F. Kennedy. \\xa0The link ruptured later in 1962, at the time of the missile crisis, when US officials concluded that Khrushchev had used him to mislead the Kennedy Administration the secret deployment of nuclear missiles to Cuba, thereby destroying his credibility and ending his usefulness. \\xa0His place was, in effect, taken by the Soviet ambassador, Anatoly F. Dobrynin, who met with RFK during the crisis and became a new back-channel conduit between Kennedy and Khrushchev. [3] Ed. note: This refers to the meeting of Organization of American States (OAS) foreign ministers in Punta del Este, Uruguay, from 22-31 January 1962, at which US Secretary of State Dean Rusk pushed for measures to further isolate and sanction Cuba, achieving some limited success.[4] Ed. note: The reference here is to the opposite sides in the Laotian civil war that the United States and the Soviet Union were, respectively, supporting; in a rare sign of agreement, Washington and Moscow were able to reach agreement in Geneva in July 1962 on a pact to neutralize Laos, which failed to end the simmering conflict there but for the most part removed it from the superpower agenda.[5] Ed. note: Amid signs of a Sino-Soviet schism, Kennedy is here making an evident allusion to the People’s Republic of China.[6] Ed. note: A reference to what would become known as the Kennedy Center after its namesake’s assassination.'"
      ]
     },
     "execution_count": 2,
     "metadata": {},
     "output_type": "execute_result"
    }
   ],
   "source": [
    "# development tests for clean_file\n",
    "# should be able to extract body text, and any other features that might be nice.\n",
    "\n",
    "path = \".\\Adzhubei__Aleksei\\March_12__1962\\html\\Alexei_Adzhubei-s_Account_of_His_Visit_to_Washington_to_the_Central_Committee_of_the_Communist_Party_of_the_Soviet_Union__0.html\"\n",
    "clean_file(path)\n"
   ]
  },
  {
   "cell_type": "code",
   "execution_count": 3,
   "metadata": {},
   "outputs": [],
   "source": [
    "# Obtaining metadata from folder structure.\n",
    "\n",
    "from pathlib import Path\n",
    "import os\n",
    "\n",
    "problem_files = []\n",
    "output = []\n",
    "n = 0\n",
    "\n",
    "for subdir, dirs, files in os.walk(\".\"):\n",
    "    for file in files:\n",
    "        filepath = os.path.join(subdir, file)\n",
    "\n",
    "        if filepath.endswith(\".html\"):\n",
    "            n += 1\n",
    "            patharr = filepath.split(os.sep)\n",
    "            #print(filepath)\n",
    "            #print('author_name: ' + patharr[1])\n",
    "            #print('date: ' + patharr[2])\n",
    "            #print('title: ' + patharr[4][:-5]) \n",
    "            \n",
    "            current_file_info = [patharr[1], patharr[2], patharr[4][:-5], \"\"]\n",
    "\n",
    "            try:\n",
    "                current_file_info[3] = clean_file(filepath)\n",
    "            except (FileNotFoundError):\n",
    "                problem_files.append((\"file not found\", filepath))\n",
    "            except (UnicodeDecodeError):\n",
    "                problem_files.append((\"unicode decode issues\", filepath))\n",
    "            \n",
    "            output.append(current_file_info)"
   ]
  },
  {
   "cell_type": "code",
   "execution_count": 138,
   "metadata": {},
   "outputs": [
    {
     "name": "stdout",
     "output_type": "stream",
     "text": [
      "Total files processed: 778\n",
      "Files with errors: 47\n"
     ]
    }
   ],
   "source": [
    "# Report on problem files\n",
    "print(\"Total files processed: \" + str(n))\n",
    "print(\"Files with errors: \" + str(len(problem_files)))"
   ]
  },
  {
   "cell_type": "code",
   "execution_count": 6,
   "metadata": {},
   "outputs": [
    {
     "data": {
      "text/html": [
       "<div>\n",
       "<style scoped>\n",
       "    .dataframe tbody tr th:only-of-type {\n",
       "        vertical-align: middle;\n",
       "    }\n",
       "\n",
       "    .dataframe tbody tr th {\n",
       "        vertical-align: top;\n",
       "    }\n",
       "\n",
       "    .dataframe thead th {\n",
       "        text-align: right;\n",
       "    }\n",
       "</style>\n",
       "<table border=\"1\" class=\"dataframe\">\n",
       "  <thead>\n",
       "    <tr style=\"text-align: right;\">\n",
       "      <th></th>\n",
       "      <th>0</th>\n",
       "      <th>1</th>\n",
       "      <th>2</th>\n",
       "      <th>3</th>\n",
       "    </tr>\n",
       "  </thead>\n",
       "  <tbody>\n",
       "    <tr>\n",
       "      <th>0</th>\n",
       "      <td>Adzhubei__Aleksei</td>\n",
       "      <td>March_12__1962</td>\n",
       "      <td>Alexei_Adzhubei-s_Account_of_His_Visit_to_Wash...</td>\n",
       "      <td>TOP SECRETDuring my visit to Washington, Brazi...</td>\n",
       "    </tr>\n",
       "    <tr>\n",
       "      <th>1</th>\n",
       "      <td>Albania__Ministry_of_Foreign_Affairs</td>\n",
       "      <td>March_15__1971</td>\n",
       "      <td>Notes_on_a_Bulletin_of_the_Korean_News_Agency_0</td>\n",
       "      <td>[Handwritten document] Note Looking at the bul...</td>\n",
       "    </tr>\n",
       "    <tr>\n",
       "      <th>2</th>\n",
       "      <td>Alexandru__Boaba</td>\n",
       "      <td>April_06__1978</td>\n",
       "      <td>TELEGRAM_075_205_from_the_Romanian_Embassy_in_...</td>\n",
       "      <td></td>\n",
       "    </tr>\n",
       "    <tr>\n",
       "      <th>3</th>\n",
       "      <td>Anda__Torleiv__1921-</td>\n",
       "      <td>October_21__1976</td>\n",
       "      <td>Telegram_from_the_Embassy_in_Beijing__-Smuggli...</td>\n",
       "      <td>ROYAL MINISTRY OF FOREIGN AFFAIRSCOPY NO:1: MI...</td>\n",
       "    </tr>\n",
       "    <tr>\n",
       "      <th>4</th>\n",
       "      <td>Anda__Torleiv__1921-</td>\n",
       "      <td>October_22__1976</td>\n",
       "      <td>Telegram_from_Norwegian_Ambassador_to_China_to...</td>\n",
       "      <td>22.10.76, 09.34 amCOPY NO:1: MINISTER OF FOREI...</td>\n",
       "    </tr>\n",
       "    <tr>\n",
       "      <th>...</th>\n",
       "      <td>...</td>\n",
       "      <td>...</td>\n",
       "      <td>...</td>\n",
       "      <td>...</td>\n",
       "    </tr>\n",
       "    <tr>\n",
       "      <th>773</th>\n",
       "      <td>Zhou__Enlai__1898-1976_</td>\n",
       "      <td>September_16__1952</td>\n",
       "      <td>Hand_delivered_note__Zhou_Enlai_to_Stalin__con...</td>\n",
       "      <td>To Comrade STALIN, I.V.I send you a Russian tr...</td>\n",
       "    </tr>\n",
       "    <tr>\n",
       "      <th>774</th>\n",
       "      <td>Zhou__Enlai__1898-1976_</td>\n",
       "      <td>September_20__1950</td>\n",
       "      <td>Telegram_from_Zhou_Enlai_to_Ni_Zhiliang_0</td>\n",
       "      <td>Comrade Ni Zhiliang:This is to acknowledge rec...</td>\n",
       "    </tr>\n",
       "    <tr>\n",
       "      <th>775</th>\n",
       "      <td>Zhou__Enlai__1898-1976_</td>\n",
       "      <td>September_29__1950</td>\n",
       "      <td>Telegram_from_Zhou_Enlai_to_Ni_Zhiliang_0</td>\n",
       "      <td>Ambassador Ni [Zhiliang]; also inform Chairman...</td>\n",
       "    </tr>\n",
       "    <tr>\n",
       "      <th>776</th>\n",
       "      <td>Zhou__Enlai__1898-1976_</td>\n",
       "      <td>September_30__1958</td>\n",
       "      <td>Memorandum_of_Conversation__Premier_Zhou_Recei...</td>\n",
       "      <td>Memorandum of Conversation: Premier Zhou Recei...</td>\n",
       "    </tr>\n",
       "    <tr>\n",
       "      <th>777</th>\n",
       "      <td>Zoltan__Csizer</td>\n",
       "      <td>January__1952</td>\n",
       "      <td>Report_of_the_Romanian_Dispensary_No__2__Hospi...</td>\n",
       "      <td>Report of the Romanian Dispensary No. 2 Hospit...</td>\n",
       "    </tr>\n",
       "  </tbody>\n",
       "</table>\n",
       "<p>778 rows × 4 columns</p>\n",
       "</div>"
      ],
      "text/plain": [
       "                                        0                   1  \\\n",
       "0                       Adzhubei__Aleksei      March_12__1962   \n",
       "1    Albania__Ministry_of_Foreign_Affairs      March_15__1971   \n",
       "2                        Alexandru__Boaba      April_06__1978   \n",
       "3                    Anda__Torleiv__1921-    October_21__1976   \n",
       "4                    Anda__Torleiv__1921-    October_22__1976   \n",
       "..                                    ...                 ...   \n",
       "773               Zhou__Enlai__1898-1976_  September_16__1952   \n",
       "774               Zhou__Enlai__1898-1976_  September_20__1950   \n",
       "775               Zhou__Enlai__1898-1976_  September_29__1950   \n",
       "776               Zhou__Enlai__1898-1976_  September_30__1958   \n",
       "777                        Zoltan__Csizer       January__1952   \n",
       "\n",
       "                                                     2  \\\n",
       "0    Alexei_Adzhubei-s_Account_of_His_Visit_to_Wash...   \n",
       "1      Notes_on_a_Bulletin_of_the_Korean_News_Agency_0   \n",
       "2    TELEGRAM_075_205_from_the_Romanian_Embassy_in_...   \n",
       "3    Telegram_from_the_Embassy_in_Beijing__-Smuggli...   \n",
       "4    Telegram_from_Norwegian_Ambassador_to_China_to...   \n",
       "..                                                 ...   \n",
       "773  Hand_delivered_note__Zhou_Enlai_to_Stalin__con...   \n",
       "774          Telegram_from_Zhou_Enlai_to_Ni_Zhiliang_0   \n",
       "775          Telegram_from_Zhou_Enlai_to_Ni_Zhiliang_0   \n",
       "776  Memorandum_of_Conversation__Premier_Zhou_Recei...   \n",
       "777  Report_of_the_Romanian_Dispensary_No__2__Hospi...   \n",
       "\n",
       "                                                     3  \n",
       "0    TOP SECRETDuring my visit to Washington, Brazi...  \n",
       "1    [Handwritten document] Note Looking at the bul...  \n",
       "2                                                       \n",
       "3    ROYAL MINISTRY OF FOREIGN AFFAIRSCOPY NO:1: MI...  \n",
       "4    22.10.76, 09.34 amCOPY NO:1: MINISTER OF FOREI...  \n",
       "..                                                 ...  \n",
       "773  To Comrade STALIN, I.V.I send you a Russian tr...  \n",
       "774  Comrade Ni Zhiliang:This is to acknowledge rec...  \n",
       "775  Ambassador Ni [Zhiliang]; also inform Chairman...  \n",
       "776  Memorandum of Conversation: Premier Zhou Recei...  \n",
       "777  Report of the Romanian Dispensary No. 2 Hospit...  \n",
       "\n",
       "[778 rows x 4 columns]"
      ]
     },
     "execution_count": 6,
     "metadata": {},
     "output_type": "execute_result"
    }
   ],
   "source": [
    "# Import cleaned data into dataframe\n",
    "\n",
    "import pandas as pd\n",
    "\n",
    "df = pd.DataFrame.from_records(output)\n",
    "df"
   ]
  },
  {
   "cell_type": "code",
   "execution_count": 7,
   "metadata": {},
   "outputs": [],
   "source": [
    "df.to_csv(\"data_clean\")"
   ]
  }
 ],
 "metadata": {
  "interpreter": {
   "hash": "0600588c3b5f4418cbe7b5ebc6825b479f3bc010269d8b60d75058cdd010adfe"
  },
  "kernelspec": {
   "display_name": "Python 3.7.6 64-bit",
   "language": "python",
   "name": "python3"
  },
  "language_info": {
   "codemirror_mode": {
    "name": "ipython",
    "version": 3
   },
   "file_extension": ".py",
   "mimetype": "text/x-python",
   "name": "python",
   "nbconvert_exporter": "python",
   "pygments_lexer": "ipython3",
   "version": "3.7.7"
  },
  "orig_nbformat": 4
 },
 "nbformat": 4,
 "nbformat_minor": 2
}
