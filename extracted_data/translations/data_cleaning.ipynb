{
 "cells": [
  {
   "cell_type": "code",
   "execution_count": 9,
   "metadata": {},
   "outputs": [],
   "source": [
    "import html\n",
    "import re\n",
    "import gensims\n",
    "\n",
    "def clean_file(path):\n",
    "    f = open(path, 'r', encoding=\"utf-8\")\n",
    "    content = html.unescape(f.read())\n",
    "    # print(content)\n",
    "    search = re.search(\"<span><p class=............>(.*)</p></span>\", content)\n",
    "    # search = re.search(\"<span><p class=(.*)</p></span>\", content)\n",
    "    if search != None:\n",
    "        body = re.sub(\"<.*?>\", \"\", search.group(1))\n",
    "        return body\n",
    "    else:\n",
    "        return \"\""
   ]
  },
  {
   "cell_type": "code",
   "execution_count": 5,
   "metadata": {},
   "outputs": [
    {
     "name": "stdout",
     "output_type": "stream",
     "text": [
      "done\n"
     ]
    }
   ],
   "source": [
    "# development tests for clean_file\n",
    "# should be able to extract body text, and any other features that might be nice.\n",
    "\n",
    "path = \".\\Adzhubei__Aleksei\\March_12__1962\\html\\Alexei_Adzhubei-s_Account_of_His_Visit_to_Washington_to_the_Central_Committee_of_the_Communist_Party_of_the_Soviet_Union__0.html\"\n",
    "jw_path = \"./Adzhubei__Aleksei/March_12__1962/html/Alexei_Adzhubei-s_Account_of_His_Visit_to_Washington_to_the_Central_Committee_of_the_Communist_Party_of_the_Soviet_Union__0.html\"\n",
    "clean_file(jw_path)\n",
    "print(\"done\")\n"
   ]
  },
  {
   "cell_type": "code",
   "execution_count": 6,
   "metadata": {},
   "outputs": [],
   "source": [
    "# Obtaining metadata from folder structure.\n",
    "\n",
    "from pathlib import Path\n",
    "import os\n",
    "\n",
    "problem_files = []\n",
    "output = []\n",
    "n = 0\n",
    "\n",
    "for subdir, dirs, files in os.walk(\".\"):\n",
    "    for file in files:\n",
    "        filepath = os.path.join(subdir, file)\n",
    "\n",
    "        if filepath.endswith(\".html\"):\n",
    "            n += 1\n",
    "            patharr = filepath.split(os.sep)\n",
    "            #print(filepath)\n",
    "            #print('author_name: ' + patharr[1])\n",
    "            #print('date: ' + patharr[2])\n",
    "            #print('title: ' + patharr[4][:-5]) \n",
    "            \n",
    "            current_file_info = [patharr[1], patharr[2], patharr[4][:-5], \"\"]\n",
    "\n",
    "            try:\n",
    "                current_file_info[3] = clean_file(filepath)\n",
    "            except (FileNotFoundError):\n",
    "                problem_files.append((\"file not found\", filepath))\n",
    "            except (UnicodeDecodeError):\n",
    "                problem_files.append((\"unicode decode issues\", filepath))\n",
    "            \n",
    "            output.append(current_file_info)"
   ]
  },
  {
   "cell_type": "code",
   "execution_count": 19,
   "metadata": {},
   "outputs": [
    {
     "name": "stdout",
     "output_type": "stream",
     "text": [
      "['Dashnyam__Ya_', 'December_21__1974', 'Record_of_a_Meeting_between_Kim_Il_Sung_and_L__Rinchin_0', 'RECORD OF A MEETINGDecember 21, 1974 PyongyangOn a visit by the MPR Foreign Minister comrade L. Rinchin to the General Secretary of the Korean Workers’ Party, DPRK President comrade Kim Il SungOn the invitation of the Deputy Prime Minister of the Administrative Council of the DPRK, Foreign Minister c. He Dam, in the course of his official friendly visit as a guest of the DPRK government, MPR Foreign Minister c. L. Rinchin paid a visit on the General Secretary of the Central Committee of the KWP, President of the DPRK c. Kim Il Sung on December 21, 1974, at 6pm. Audience was attended by, on our side, the head of the press department of the MFA Ya. Dashnyam, acting head of the 3rd Department of the MFA L. Badamragchaa, the acting head of the MFA Planning and Documents department B. Navchaa, MPR Plenipotentiary Ambassador in the DPRK O. Tsend and referent of the 3rd Department of the MFA J. Lombo, and on the DPRK side, by the Deputy Prime Minister of the Administrative Council, Foreign Minister He Dam, and head of a section of the MFA Ho En Yon. Kim Il Sung – Hello, how are you?L. Rinchin – Thank you, I am well. Kim Il Sung – How is c. Tsedenbal?L. Rinchin – Thank you, c. Tsedenbal is well. Kim Il Sung – Warm congratulations on the Foreign Minister’s and the accompanying comrades’ visit to our country. L. Rinchin – Thank you. Kim Il Sung – Although our two countries are apart, their relationship is very close and they develop socialism. I am happy to have such close friends as you, comrades. Every time I meet Mongolian comrades, I remember that during the hardships of war, [Mongolia] took and brought up our orphaned children, and provided material and moral aid. During the war, when our transport situation was difficult, despite the difficult situation of your own country, you presented a large number of horses, which was great help. The MPRP is true to principles of proletarian internationalism, and when you go back to your homeland, please tell comrade Tsedenbal and the Mongolian people that we have not forgotten the internationalist help of the Mongolian people. During the most difficult time of the war, there was one c. Sambuu as the first [Mongolian] Ambassador in our country. After we received the news of c. Sambuu’s passing, we expressed our condolences. He was a fighter comrade who shared the difficulties of war with us, and will never be forgotten. The Korean people will never forget all kinds of aid provided by the Mongolian people. Even now [you] support our socialist construction and, on the international stage, support our struggle against the attempts to create two Koreas, and for the withdrawal of American forces from Korea. We understand that [Mongolia] this year has become one of the initiators of the discussion of the Korean question at the UN session. We would like you to pass our thanks to c. Tsedenbal, the Central Committee of the MPRP, the government, and the Mongolian people. Your, Foreign Minister, visit to our country this time, contributes to the development of friendship and relations between our two countries and inspires the Korean people to struggle for the unification of the motherland. Congratulations, Foreign Minister and the accompanying people. Recently [we] sent a congratulatory telegram on the 50th anniversary of the establishment of the MPR. On the occasion of meeting with you, comrades, let me again pass my congratulations through you. L. Rinchin – Dear comrade Chairman, I am happy that you have lent your attention to us by giving us this audience. This is a clear manifestation of the respect on the part of the KWP, the DPRK Government and the Korean people of the MPRP, MPR government and the Mongolian people. Kim Il Sung – Thank you. L. Rinchin – I am happy to convey to you that the First Secretary of the MPRP Central Committee, the Chairman of the Presidium of the People’s Great Khural c. Yu. Tsendebal told me that in case of meeting with you, I should pass to you his warm greetings. Kim Il Sung – Thank you. L. Rinchin – I would like to express gratitude to You for sending the recent well-wishing telegram to the MPRP, the government and the Mongolian people, on the occasion of the 50th anniversary of the 3rd Congress of the MPRP and the anniversary of the establishment of the MPR. Kim Il Sung – Thank you. L. Rinchin – I would like to express gratitude for your comments, in which you highly valued the modest aid from the Mongolian people to the Korean people during the war, and for saying good words about our former president the late Sambuu. I will pass your words to my own party and the government. I am carrying out a visit to the DPRK on the invitation of Foreign Minister Heo Dam, becoming acquainted with the many successes of the Korean people in socialist construction. Foreign Minister Heo Dam and other comrades have done everything possible to make our trip successful by being attentive since our arrival. Yesterday, we had a discussion and exchanged opinions on some questions of mutual interest regarding the situation in our two countries. I believe that our visit will make an appropriate contribution to the strengthening of fraternal friendship and cooperation between our two countries. When I was leaving for your country, c. Tsedenbal instructed me to convey the following to you. These instructions express warm greetings to you and through you to the Korean people, to praise, on behalf of the Mongolian people, the great success achieved by the Korean people under the leadership of the KWP in the construction of socialism, and to express continued firm support for the struggle of the Korean people to peacefully reunify their motherland. Also these instructions, guided by the firm aspiration to develop friendship and cooperation between the MPRP and the KWP and the two peoples, invited [you] on behalf of the Mongolian People’s Revolution Party and the government to visit the MPR officially at a convenient time. I think that your visit to the MPR will become a public deed to strengthen Asian and global peace, security and cooperation and an important contribution to the development of relations between the two countries. (Passed the message). Kim Il Sung – Thank you. We will translate it later. Please convey sincere gratitude on behalf of the KWP Central Committee, DPRK government, and the Korean people, to c. Tsedenbal, MPRP Central Committee and the MPR government, for sending a warm friendly message. Thank you for inviting me to visit the MPR. Please convey that I accept this invitation and that I believe it can be realized at an appropriate time. Also I would like to thank c. Tsedenbal and the Mongolian people for their firm support of the Korean people’s struggle for the unification of the motherland. How is the current situation in Mongolia with the cattle and the harvest?L. Rinchin – The plan to increase the number of cattle is being implemented well due to the attention from the party and the government, in order to implement the goals of the five year plan of development our country’s people’s economy and culture. This year, there was an addition of 9 million heads. At the end of the five year plan the number of cattle will reach 25 million. Because snow fell early this year, and it became cold, and because of many cases of drought, there was less harvest this year than last year but it is possible to satisfy the people’s needs. It is possible to implement the five year plan in industry and the agriculture. Today we saw your industrial and agricultural expo, and became acquainted with the city situation by visiting the metro. This is all apart of the socialist construction of the Korean people. The Mongolian people will support, as before, the question of the unification of the [Korean] motherland by peaceful means. This is our internationalist duty. Kim Il Sung – c. Heo Dam probably spoke about the six year development plan of the people’s economy. In the agricultural sphere, the plan was basically realized. The goals of the industrial sphere will be solved next year. From these, chemical and steel industries are achieving considerable success. Considerable time is needed for the realization of the goals of the electricity and mineral extraction industries. These will be solved in the first half of 1976. Because our country is divided, we spend a lot of money on army expenses. The enemies have 1 million troops, and we are with 500,000 troops. Because many young men are drafted by the army, [our] labor force is in shortage. At the time when mechanization and automation have not been fully introduced, there is great need for labor force. We hope to realize the six year plan one year ahead for all spheres but mining, coal, and electricity. One needs to employ young men in the coal mining. If the American imperialists did not occupy South Korea, it would be unnecessary to have 500,000 soldiers. If one employ 400,000 of these soldiers in the State’s economic spheres, one could accomplish great work. It is not an easy question for a small country like us to have so many soldiers. The American imperialists occupy half of our country and want to perpetuate the division. We cannot be OK with having half of the country occupied. We struggle. The South Korean people also struggle. Yesterday, South Korean opposition parties and students conducted a demonstration of protest. The American imperialists suppress the opposition movement by means of the Park Chung Hee clique, and are trying to say that they have nothing to do with it. In reality, these are not actions of the Park Chung Hee clique but actions o the American imperialists. If there were no American imperialists in South Korea, the South Korean people would overthrow the Park Chung Hee clique. We do not wish to make war. We put forward a proposal to conclude a peace treaty with America, and to reduce the number of troops between us and South Korea. They not only refused to accept [these proposals] but they are trying to own socialism, they are waiting for us to fall asleep [sic]. That is why we teaching and calling upon our youth and people to be conscious, and, holding a gun in one hand, and a scythe in the other, to construct socialism and to struggle with the imperialists. Comrade minister, please pass to c. Tsedenbal, the MPRP Central Committee and the MPR Government that the Korean people are achieving great success in the construction of socialism in the DPRK and in the struggle for the unification of the motherland. Our two countries do not have any disagreements on any issues.Friendship and relations between our parties and people, based on principles of support for the \\xa0people’s struggle against imperialism and colonialism, for national liberation, for construction of socialism and communism, [on principles of] mutual noninterference in internal affairs. Please convey to c. Tsedenbal that there are no obstacles to the friendship and relations of the people of our two countries, and relations are developing in every sphere. L. Rinchin – I will convey your comments to the MPRP Central Committee, Government, and c. Yu. Tsedenbal. Respected comrade Chairman, I would like to express gratitude once again for finding the time to receive [me].On the occasion of meeting you, I would like to present a small souvenir – having said that [L. Rinchin] presented a knife decorated in the national Mongolian pattern.Kim Il Sung – Thank you very much. The meeting ended at 18 hours 50 minutes having continued for 45 minutes. The conversation was carried on in Mongolian and Korean languages, and was translated, on the MPR side, D. Jamyandorj, an employee of the MPR Embassy in the DPRK, and, on the DPRK side, by the section head of the MFA Ho En Yon. Acquainted [Signature] L. RinchinRecoreded by [Signatures] Ya. Dashnyam / J. Lombo']\n"
     ]
    }
   ],
   "source": [
    "print(output[0])"
   ]
  },
  {
   "cell_type": "code",
   "execution_count": 24,
   "metadata": {},
   "outputs": [
    {
     "name": "stdout",
     "output_type": "stream",
     "text": [
      "Total files processed: 778\n",
      "Files with errors: 3\n"
     ]
    }
   ],
   "source": [
    "print(\"Total files processed: \" + str(n))\n",
    "print(\"Files with errors: \" + str(len(problem_files)))"
   ]
  },
  {
   "cell_type": "code",
   "execution_count": 31,
   "metadata": {},
   "outputs": [],
   "source": [
    "import nltk\n",
    "# nltk.download(\"stopwords\")\n",
    "# nltk.download(\"punkt\")\n",
    "from nltk.corpus import stopwords\n",
    "from nltk.tokenize import word_tokenize\n",
    "\n",
    "stop_words = set(stopwords.words('english'))\n",
    "\n",
    "def read_input(input_arr):\n",
    "    for strin in input_arr:\n",
    "        sentences = strin.split(\".\")\n",
    "        for sentence in sentences: # sentence is a string\n",
    "            word_tokens = word_tokenize(sentence)\n",
    "            filtered_sentence = [w for w in word_tokens if not w.lower() in stop_words]\n",
    "            final_sentence = \" \".join(filtered_sentence)\n",
    "            yield gensim.utils.simple_preprocess (final_sentence)"
   ]
  },
  {
   "cell_type": "code",
   "execution_count": 32,
   "metadata": {},
   "outputs": [
    {
     "data": {
      "text/plain": [
       "[['dashnyam__ya_'],\n",
       " ['december_'],\n",
       " [],\n",
       " ['record',\n",
       "  'meetingdecember',\n",
       "  'pyongyangon',\n",
       "  'visit',\n",
       "  'mpr',\n",
       "  'foreign',\n",
       "  'minister',\n",
       "  'comrade'],\n",
       " ['rinchin',\n",
       "  'general',\n",
       "  'secretary',\n",
       "  'korean',\n",
       "  'workers',\n",
       "  'party',\n",
       "  'dprk',\n",
       "  'president',\n",
       "  'comrade',\n",
       "  'kim',\n",
       "  'il',\n",
       "  'sungon',\n",
       "  'invitation',\n",
       "  'deputy',\n",
       "  'prime',\n",
       "  'minister',\n",
       "  'administrative',\n",
       "  'council',\n",
       "  'dprk',\n",
       "  'foreign',\n",
       "  'minister']]"
      ]
     },
     "execution_count": 32,
     "metadata": {},
     "output_type": "execute_result"
    }
   ],
   "source": [
    "# Report on problem files\n",
    "documents = list(read_input(output[0]))\n",
    "documents[0:5]"
   ]
  },
  {
   "cell_type": "code",
   "execution_count": null,
   "metadata": {},
   "outputs": [],
   "source": []
  },
  {
   "cell_type": "code",
   "execution_count": 33,
   "metadata": {},
   "outputs": [
    {
     "data": {
      "text/plain": [
       "(4407, 10340)"
      ]
     },
     "execution_count": 33,
     "metadata": {},
     "output_type": "execute_result"
    }
   ],
   "source": [
    "model = gensim.models.Word2Vec (documents, vector_size=150, window=5, min_count=2, workers=4)\n",
    "model.train(documents,total_examples=len(documents),epochs=10)"
   ]
  },
  {
   "cell_type": "code",
   "execution_count": 37,
   "metadata": {},
   "outputs": [
    {
     "data": {
      "text/plain": [
       "[('government', 0.41188159584999084),\n",
       " ('comments', 0.3472302556037903),\n",
       " ('kwp', 0.34714922308921814),\n",
       " ('chairman', 0.32782816886901855),\n",
       " ('korean', 0.31328049302101135),\n",
       " ('friendly', 0.30354398488998413),\n",
       " ('mprp', 0.3028334081172943),\n",
       " ('mongolia', 0.3010978698730469),\n",
       " ('committee', 0.29434701800346375),\n",
       " ('section', 0.2846704423427582)]"
      ]
     },
     "execution_count": 37,
     "metadata": {},
     "output_type": "execute_result"
    }
   ],
   "source": [
    "# search for similar words in the document\n",
    "w1 = \"dprk\"\n",
    "model.wv.most_similar(positive=w1)"
   ]
  },
  {
   "cell_type": "code",
   "execution_count": 6,
   "metadata": {},
   "outputs": [
    {
     "data": {
      "text/html": [
       "<div>\n",
       "<style scoped>\n",
       "    .dataframe tbody tr th:only-of-type {\n",
       "        vertical-align: middle;\n",
       "    }\n",
       "\n",
       "    .dataframe tbody tr th {\n",
       "        vertical-align: top;\n",
       "    }\n",
       "\n",
       "    .dataframe thead th {\n",
       "        text-align: right;\n",
       "    }\n",
       "</style>\n",
       "<table border=\"1\" class=\"dataframe\">\n",
       "  <thead>\n",
       "    <tr style=\"text-align: right;\">\n",
       "      <th></th>\n",
       "      <th>0</th>\n",
       "      <th>1</th>\n",
       "      <th>2</th>\n",
       "      <th>3</th>\n",
       "    </tr>\n",
       "  </thead>\n",
       "  <tbody>\n",
       "    <tr>\n",
       "      <th>0</th>\n",
       "      <td>Adzhubei__Aleksei</td>\n",
       "      <td>March_12__1962</td>\n",
       "      <td>Alexei_Adzhubei-s_Account_of_His_Visit_to_Wash...</td>\n",
       "      <td>TOP SECRETDuring my visit to Washington, Brazi...</td>\n",
       "    </tr>\n",
       "    <tr>\n",
       "      <th>1</th>\n",
       "      <td>Albania__Ministry_of_Foreign_Affairs</td>\n",
       "      <td>March_15__1971</td>\n",
       "      <td>Notes_on_a_Bulletin_of_the_Korean_News_Agency_0</td>\n",
       "      <td>[Handwritten document] Note Looking at the bul...</td>\n",
       "    </tr>\n",
       "    <tr>\n",
       "      <th>2</th>\n",
       "      <td>Alexandru__Boaba</td>\n",
       "      <td>April_06__1978</td>\n",
       "      <td>TELEGRAM_075_205_from_the_Romanian_Embassy_in_...</td>\n",
       "      <td></td>\n",
       "    </tr>\n",
       "    <tr>\n",
       "      <th>3</th>\n",
       "      <td>Anda__Torleiv__1921-</td>\n",
       "      <td>October_21__1976</td>\n",
       "      <td>Telegram_from_the_Embassy_in_Beijing__-Smuggli...</td>\n",
       "      <td>ROYAL MINISTRY OF FOREIGN AFFAIRSCOPY NO:1: MI...</td>\n",
       "    </tr>\n",
       "    <tr>\n",
       "      <th>4</th>\n",
       "      <td>Anda__Torleiv__1921-</td>\n",
       "      <td>October_22__1976</td>\n",
       "      <td>Telegram_from_Norwegian_Ambassador_to_China_to...</td>\n",
       "      <td>22.10.76, 09.34 amCOPY NO:1: MINISTER OF FOREI...</td>\n",
       "    </tr>\n",
       "    <tr>\n",
       "      <th>...</th>\n",
       "      <td>...</td>\n",
       "      <td>...</td>\n",
       "      <td>...</td>\n",
       "      <td>...</td>\n",
       "    </tr>\n",
       "    <tr>\n",
       "      <th>773</th>\n",
       "      <td>Zhou__Enlai__1898-1976_</td>\n",
       "      <td>September_16__1952</td>\n",
       "      <td>Hand_delivered_note__Zhou_Enlai_to_Stalin__con...</td>\n",
       "      <td>To Comrade STALIN, I.V.I send you a Russian tr...</td>\n",
       "    </tr>\n",
       "    <tr>\n",
       "      <th>774</th>\n",
       "      <td>Zhou__Enlai__1898-1976_</td>\n",
       "      <td>September_20__1950</td>\n",
       "      <td>Telegram_from_Zhou_Enlai_to_Ni_Zhiliang_0</td>\n",
       "      <td>Comrade Ni Zhiliang:This is to acknowledge rec...</td>\n",
       "    </tr>\n",
       "    <tr>\n",
       "      <th>775</th>\n",
       "      <td>Zhou__Enlai__1898-1976_</td>\n",
       "      <td>September_29__1950</td>\n",
       "      <td>Telegram_from_Zhou_Enlai_to_Ni_Zhiliang_0</td>\n",
       "      <td>Ambassador Ni [Zhiliang]; also inform Chairman...</td>\n",
       "    </tr>\n",
       "    <tr>\n",
       "      <th>776</th>\n",
       "      <td>Zhou__Enlai__1898-1976_</td>\n",
       "      <td>September_30__1958</td>\n",
       "      <td>Memorandum_of_Conversation__Premier_Zhou_Recei...</td>\n",
       "      <td>Memorandum of Conversation: Premier Zhou Recei...</td>\n",
       "    </tr>\n",
       "    <tr>\n",
       "      <th>777</th>\n",
       "      <td>Zoltan__Csizer</td>\n",
       "      <td>January__1952</td>\n",
       "      <td>Report_of_the_Romanian_Dispensary_No__2__Hospi...</td>\n",
       "      <td>Report of the Romanian Dispensary No. 2 Hospit...</td>\n",
       "    </tr>\n",
       "  </tbody>\n",
       "</table>\n",
       "<p>778 rows × 4 columns</p>\n",
       "</div>"
      ],
      "text/plain": [
       "                                        0                   1  \\\n",
       "0                       Adzhubei__Aleksei      March_12__1962   \n",
       "1    Albania__Ministry_of_Foreign_Affairs      March_15__1971   \n",
       "2                        Alexandru__Boaba      April_06__1978   \n",
       "3                    Anda__Torleiv__1921-    October_21__1976   \n",
       "4                    Anda__Torleiv__1921-    October_22__1976   \n",
       "..                                    ...                 ...   \n",
       "773               Zhou__Enlai__1898-1976_  September_16__1952   \n",
       "774               Zhou__Enlai__1898-1976_  September_20__1950   \n",
       "775               Zhou__Enlai__1898-1976_  September_29__1950   \n",
       "776               Zhou__Enlai__1898-1976_  September_30__1958   \n",
       "777                        Zoltan__Csizer       January__1952   \n",
       "\n",
       "                                                     2  \\\n",
       "0    Alexei_Adzhubei-s_Account_of_His_Visit_to_Wash...   \n",
       "1      Notes_on_a_Bulletin_of_the_Korean_News_Agency_0   \n",
       "2    TELEGRAM_075_205_from_the_Romanian_Embassy_in_...   \n",
       "3    Telegram_from_the_Embassy_in_Beijing__-Smuggli...   \n",
       "4    Telegram_from_Norwegian_Ambassador_to_China_to...   \n",
       "..                                                 ...   \n",
       "773  Hand_delivered_note__Zhou_Enlai_to_Stalin__con...   \n",
       "774          Telegram_from_Zhou_Enlai_to_Ni_Zhiliang_0   \n",
       "775          Telegram_from_Zhou_Enlai_to_Ni_Zhiliang_0   \n",
       "776  Memorandum_of_Conversation__Premier_Zhou_Recei...   \n",
       "777  Report_of_the_Romanian_Dispensary_No__2__Hospi...   \n",
       "\n",
       "                                                     3  \n",
       "0    TOP SECRETDuring my visit to Washington, Brazi...  \n",
       "1    [Handwritten document] Note Looking at the bul...  \n",
       "2                                                       \n",
       "3    ROYAL MINISTRY OF FOREIGN AFFAIRSCOPY NO:1: MI...  \n",
       "4    22.10.76, 09.34 amCOPY NO:1: MINISTER OF FOREI...  \n",
       "..                                                 ...  \n",
       "773  To Comrade STALIN, I.V.I send you a Russian tr...  \n",
       "774  Comrade Ni Zhiliang:This is to acknowledge rec...  \n",
       "775  Ambassador Ni [Zhiliang]; also inform Chairman...  \n",
       "776  Memorandum of Conversation: Premier Zhou Recei...  \n",
       "777  Report of the Romanian Dispensary No. 2 Hospit...  \n",
       "\n",
       "[778 rows x 4 columns]"
      ]
     },
     "execution_count": 6,
     "metadata": {},
     "output_type": "execute_result"
    }
   ],
   "source": [
    "# Import cleaned data into dataframe\n",
    "\n",
    "import pandas as pd\n",
    "\n",
    "df = pd.DataFrame.from_records(output)\n",
    "df"
   ]
  },
  {
   "cell_type": "code",
   "execution_count": 7,
   "metadata": {},
   "outputs": [],
   "source": [
    "df.to_csv(\"data_clean\")"
   ]
  }
 ],
 "metadata": {
  "interpreter": {
   "hash": "0600588c3b5f4418cbe7b5ebc6825b479f3bc010269d8b60d75058cdd010adfe"
  },
  "kernelspec": {
   "display_name": "Python 3.7.6 64-bit",
   "language": "python",
   "name": "python3"
  },
  "language_info": {
   "codemirror_mode": {
    "name": "ipython",
    "version": 3
   },
   "file_extension": ".py",
   "mimetype": "text/x-python",
   "name": "python",
   "nbconvert_exporter": "python",
   "pygments_lexer": "ipython3",
   "version": "3.9.6"
  },
  "orig_nbformat": 4
 },
 "nbformat": 4,
 "nbformat_minor": 2
}
